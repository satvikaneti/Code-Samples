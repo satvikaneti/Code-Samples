{
 "cells": [
  {
   "cell_type": "markdown",
   "metadata": {},
   "source": [
    "# HW 2: Clustering and Topic Models [100 points]"
   ]
  },
  {
   "cell_type": "markdown",
   "metadata": {},
   "source": [
    "Name: Satvika Neti\n",
    "\n",
    "Andrew ID: sneti\n",
    "\n",
    "Collaborators (if none, say \"none\"; do *not* leave this blank):\n",
    "\n",
    "Reminder: you should not be sharing code."
   ]
  },
  {
   "cell_type": "markdown",
   "metadata": {},
   "source": [
    "## Question 1: Clustering emails using Gaussian Mixture Models [50 pts]"
   ]
  },
  {
   "cell_type": "markdown",
   "metadata": {},
   "source": [
    "For this problem, we will be analyzing emails taken from the [Enron Email Dataset](https://www.cs.cmu.edu/~enron/). We have already curated the data for you in the `data/enron` directory, with one file per email (so there is no need to redownload the dataset as it is already included in this homework zip archive). The dataset includes a combination of \"spam\" and \"ham\" emails. Spam emails are unsolicited messages intended to sell a product or scam users into providing personal information, while ham emails represent everything that is not spam.\n",
    "\n",
    "The language used in spam emails tends to be considerably different from typical business emails. Most spam filters leverage this difference in word frequencies to detect spam as it arrives and filter it out of email inboxes. We will use Gaussian Mixture Models (GMMs) to cluster the emails and attempt to identify groups of emails which are likely to be spam."
   ]
  },
  {
   "cell_type": "markdown",
   "metadata": {},
   "source": [
    "### Part A: Construct a list of processed documents [10 points]"
   ]
  },
  {
   "cell_type": "markdown",
   "metadata": {},
   "source": [
    "Provided below is a function that returns a document present in a file given a filename. The function performs some preprocessing to (1) remove punctuation, (2),(3) remove whitespace and (4) lowercase all words. Using the `make_word_list` function, construct a list of processed documents."
   ]
  },
  {
   "cell_type": "code",
   "execution_count": 2,
   "metadata": {},
   "outputs": [],
   "source": [
    "import re\n",
    "import string\n",
    "import codecs\n",
    "\n",
    "def make_word_list(path):\n",
    "    \n",
    "    with codecs.open(path, \"r\", encoding='utf-8', errors='ignore') as f:\n",
    "        corpus_text = f.read()\n",
    "\n",
    "    for c in string.punctuation:\n",
    "        corpus_text = corpus_text.replace(c, \"\")  # -- (1)\n",
    "    \n",
    "    text = re.sub(r'\\S*\\d\\S*', '', corpus_text) # -- (2)\n",
    "    text = re.sub(r'[^\\w\\s]', '', text)         # -- (3)\n",
    "    \n",
    "    text = text.lower().split()           # -- (4)         \n",
    "    \n",
    "    li = []\n",
    "    for token in text:\n",
    "        li.append(token)\n",
    "\n",
    "    return \" \".join(li)"
   ]
  },
  {
   "cell_type": "code",
   "execution_count": 3,
   "metadata": {},
   "outputs": [
    {
     "name": "stdout",
     "output_type": "stream",
     "text": [
      "5171\n"
     ]
    }
   ],
   "source": [
    "import glob\n",
    "\n",
    "allfilenames = glob.glob('./data/enron/*.txt')\n",
    "\n",
    "all_word_list = []\n",
    "\n",
    "for file in allfilenames:\n",
    "    word_list = make_word_list(file)\n",
    "    all_word_list.append(word_list)\n",
    "    \n",
    "print(len(all_word_list))"
   ]
  },
  {
   "cell_type": "code",
   "execution_count": 4,
   "metadata": {},
   "outputs": [
    {
     "name": "stdout",
     "output_type": "stream",
     "text": [
      "5171\n",
      "5171\n"
     ]
    }
   ],
   "source": [
    "print(len(all_word_list))\n",
    "print(len(allfilenames))"
   ]
  },
  {
   "cell_type": "markdown",
   "metadata": {},
   "source": [
    "### Part B: Construct a document matrix [10 points]"
   ]
  },
  {
   "cell_type": "markdown",
   "metadata": {},
   "source": [
    "Next, construct a document matrix `X` as a matrix of [TF-IDF](https://en.wikipedia.org/wiki/Tf%E2%80%93idf) features for each document. TF-IDF features encode information about the word frequency within a document, weighted by the frequency of the same word for corpus as a whole.\n",
    "\n",
    "   - Use the `TfidfVectorizer` from [scikit-learn](http://scikit-learn.org/stable/modules/generated/sklearn.feature_extraction.text.TfidfVectorizer.html) to create the document matrix `X`.\n",
    "   - Set `min_df=50`; this drops words that don't occur in at least 50 documents.\n",
    "   - Set `stop_words=\"english\"` and `max_df=0.8` to filter out stop-words.\n",
    "   - Print the number of unique words in the vocabulary Hint: Look for the `vocabulary_` attribute in the `TfidfVectorizer` object after fitting the vectorizer to the data set. The vocabulary will also be needed in part (d)."
   ]
  },
  {
   "cell_type": "code",
   "execution_count": 26,
   "metadata": {},
   "outputs": [
    {
     "name": "stdout",
     "output_type": "stream",
     "text": [
      "{'leadership': 792, 'development': 378, 'sally': 1310, 'timing': 1523, 'ask': 96, 'shall': 1360, 'receive': 1216, 'discussion': 398, 'listed': 817, 'update': 1577, 'team': 1491, 'information': 713, 'later': 785, 'week': 1634, 'learn': 795, 'energy': 463, 'operations': 1020, 'focus': 556, 'group': 618, 'ready': 1210, 'start': 1428, 'appropriate': 87, 'thank': 1506, 'time': 1521, 'today': 1525, 'questions': 1194, 'forwarded': 570, 'corp': 312, 'enron': 467, 'pm': 1097, 'susan': 1478, 'ect': 439, 'cindy': 231, 'hou': 666, 'robert': 1298, 'jones': 764, 'sheila': 1365, 'mary': 888, 'kim': 774, 'hope': 662, 'cc': 204, 'david': 344, 'good': 612, 'news': 973, 'regarding': 1231, 'ena': 459, 'help': 647, 've': 1601, 'performance': 1074, 'wilson': 1650, 'products': 1155, 'primary': 1135, 'programs': 1164, 'february': 534, 'purpose': 1188, 'fine': 549, 'materials': 891, 'present': 1124, 'just': 769, 'order': 1028, 'great': 616, 'section': 1329, 'attend': 110, 'asking': 98, 'client': 240, 'groups': 619, 'participate': 1050, 'held': 644, 'room': 1300, 'times': 1522, 'attached': 108, 'description': 366, 'designed': 369, 'effectively': 445, 'open': 1014, 'employee': 456, 'benefit': 141, 'pick': 1085, 'cost': 317, 'charge': 217, 'currently': 334, 'design': 367, 'available': 119, 'include': 694, 'options': 1027, 'respond': 1268, 'names': 958, 'contact': 289, 'really': 1212, 'clients': 241, 'valuable': 1594, 'following': 559, 'half': 628, 'day': 345, 'sign': 1377, 'need': 967, 'minimum': 930, 'date': 341, 'target': 1487, 'meeting': 904, 'months': 943, 'experience': 509, 'working': 1662, 'results': 1275, 'fw': 587, 'solution': 1399, 'mentioned': 912, 'email': 454, 'address': 31, 'list': 816, 'reference': 1228, 'mid': 922, 'wish': 1654, 'unsubscribe': 1576, 'click': 238, 'enter': 469, 'remove': 1246, 'box': 158, 'previously': 1131, 'receiving': 1218, 'message': 914, 'control': 302, 'center': 207, 'write': 1667, 'way': 1628, 'fl': 553, 'web': 1630, 'credit': 329, 'rights': 1292, 'reserved': 1263, 'additional': 30, 'responsibility': 1271, 'congratulations': 283, 'happy': 634, 'support': 1474, 'new': 972, 'role': 1299, 'possible': 1107, 'having': 636, 'leave': 796, 'staff': 1424, 'early': 431, 'yesterday': 1677, 'north': 979, 'america': 65, 'beck': 133, 'solmonson': 1398, 'brent': 165, 'price': 1132, 'bob': 152, 'glover': 605, 'final': 544, 'point': 1098, 'wanted': 1625, 'send': 1341, 'memo': 909, 'end': 462, 'sent': 1346, 'rick': 1290, 'causey': 203, 'notes': 982, 'mail': 856, 'assume': 105, 'regard': 1230, 'global': 604, 'know': 776, 'going': 610, 'away': 124, 'create': 325, 'opportunities': 1022, 'personnel': 1079, 'functions': 583, 'provide': 1181, 'organization': 1033, 'spend': 1418, 'phone': 1081, 'clear': 237, 'unlimited': 1574, 'long': 837, 'low': 850, 'rate': 1203, 'try': 1552, 'free': 574, 'll': 824, 'service': 1350, 'quality': 1192, 'expect': 504, 'monday': 939, 'friday': 577, 'city': 232, 'state': 1431, 'offer': 998, 'valid': 1593, 'account': 10, 'period': 1075, 'received': 1217, 'error': 478, 'removed': 1247, 'mailing': 859, 'mortgage': 945, 'broker': 169, 'competitive': 265, 'rates': 1204, 'simple': 1381, 'takes': 1482, 'minute': 931, 'looking': 840, 'real': 1211, 'fun': 581, 'talk': 1484, 'area': 92, 'want': 1624, 'meet': 903, 'pre': 1114, 'deal': 348, 'careful': 197, 'making': 871, 'sexual': 1357, 'dates': 342, 'meetings': 905, 'risk': 1294, 'management': 876, 'ees': 442, 'worldwide': 1665, 'increasing': 702, 'presence': 1123, 'wholesale': 1642, 'business': 177, 'outstanding': 1038, 'internal': 728, 'controls': 303, 'activities': 22, 'regardless': 1232, 'location': 830, 'function': 582, 'created': 326, 'direction': 387, 'vice': 1609, 'president': 1128, 'report': 1249, 'executive': 500, 'chief': 222, 'accounting': 11, 'officer': 1003, 'responsibilities': 1270, 'recently': 1220, 'work': 1660, 'closely': 243, 'companies': 262, 'communication': 259, 'professionals': 1158, 'best': 143, 'operational': 1019, 'facilitate': 517, 'human': 675, 'resources': 1265, 'training': 1542, 'user': 1586, 'requirements': 1260, 'systems': 1480, 'audit': 112, 'plan': 1089, 'establish': 483, 'procedures': 1146, 'opening': 1015, 'offices': 1004, 'key': 773, 'continue': 296, 'direct': 386, 'reporting': 1250, 'relationship': 1237, 'unit': 1569, 'delivery': 361, 'critical': 330, 'items': 750, 'houston': 670, 'based': 131, 'south': 1406, 'australia': 115, 'directly': 388, 'office': 1002, 'chairman': 211, 'current': 333, 'consolidation': 286, 'administration': 33, 'physical': 1084, 'product': 1153, 'cash': 200, 'commodity': 256, 'trading': 1541, 'financial': 547, 'company': 263, 'manager': 877, 'prior': 1137, 'years': 1675, 'commercial': 251, 'spent': 1419, 'seven': 1355, 'registered': 1235, 'securities': 1331, 'investment': 737, 'banking': 128, 'firm': 550, 'owned': 1040, 'managed': 875, 'retail': 1276, 'join': 762, 'supporting': 1475, 'membership': 908, 'exchange': 497, 'issue': 746, 'content': 295, 'type': 1559, 'text': 1504, 'charset': 218, 'iso': 745, 'place': 1086, 'ideas': 679, 'links': 813, 'share': 1361, 'skills': 1390, 'member': 906, 'www': 1670, 'op': 1013, 'com': 246, 'special': 1413, 'announcement': 74, 'internet': 730, 'http': 673, 'signed': 1378, 'year': 1674, 'contract': 300, 'local': 827, 'sure': 1476, 'sites': 1387, 'trade': 1537, 'resource': 1264, 'board': 151, 'image': 683, 'access': 8, 'reviews': 1285, 'review': 1283, 'believe': 139, 'better': 145, 'version': 1605, 'little': 821, 'pass': 1056, 'save': 1316, 'print': 1136, 'right': 1291, 'allow': 61, 'session': 1352, 'turn': 1556, 'remember': 1242, 'windows': 1652, 'tool': 1532, 'use': 1584, 'like': 807, 'software': 1395, 'advertising': 38, 'members': 907, 'soon': 1402, 'win': 1651, 'net': 970, 'php': 1083, 'visit': 1614, 'gift': 600, 'shop': 1371, 'shopping': 1372, 'needs': 969, 'line': 811, 'prices': 1133, 'choose': 226, 'site': 1386, 'attention': 111, 'needed': 968, 'sell': 1339, 'make': 869, 'month': 941, 'home': 660, 'quickly': 1198, 'earning': 433, 'fully': 580, 'sales': 1309, 'recruiting': 1225, 'org': 1032, 'opportunity': 1023, 'people': 1071, 'reach': 1206, 'large': 782, 'website': 1631, 'successful': 1464, 'limited': 810, 'come': 247, 'serve': 1348, 'basis': 132, 'copy': 308, 'url': 1582, 'html': 672, 'subscription': 1461, 'view': 1611, 'privacy': 1139, 'policy': 1100, 'reached': 1207, 'longer': 838, 'interested': 726, 'double': 415, 'life': 805, 'insurance': 723, 'extra': 514, 'lowest': 852, 'form': 564, 'custom': 335, 'level': 803, 'term': 1499, 'monthly': 942, 'age': 49, 'male': 872, 'fast': 527, 'easy': 437, 'fees': 539, 'actual': 24, 'availability': 118, 'sex': 1356, 'health': 638, 'history': 656, 'recent': 1219, 'reply': 1248, 'urgent': 1581, 'proposal': 1176, 'africa': 46, 'respect': 1266, 'trust': 1551, 'wife': 1645, 'late': 784, 'mr': 951, 'major': 867, 'paul': 1061, 'director': 389, 'general': 594, 'gold': 611, 'corporation': 314, 'targeted': 1488, 'course': 323, 'country': 321, 'unknown': 1572, 'days': 346, 'death': 351, 'money': 940, 'son': 1401, 'immediately': 686, 'powerful': 1112, 'keeping': 770, 'situation': 1388, 'partner': 1053, 'moment': 938, 'person': 1077, 'running': 1302, 'documents': 404, 'property': 1175, 'title': 1524, 'involved': 743, 'million': 926, 'united': 1570, 'states': 1435, 'dollars': 409, 'deposited': 365, 'private': 1140, 'security': 1332, 'informed': 714, 'travel': 1546, 'economic': 438, 'future': 586, 'assist': 100, 'claim': 234, 'invest': 734, 'mind': 929, 'prepared': 1121, 'kind': 775, 'assistance': 101, 'decided': 355, 'set': 1353, 'total': 1534, 'sum': 1469, 'expenses': 508, 'parties': 1052, 'transfer': 1545, 'enable': 460, 'response': 1269, 'fax': 531, 'numbers': 989, 'operation': 1018, 'god': 608, 'mailman': 861, 'listinfo': 818, 'fork': 563, 'june': 768, 'ad': 26, 'subscribers': 1460, 'marketing': 885, 'online': 1012, 'personal': 1078, 'host': 663, 'operate': 1016, 'michael': 920, 'apologize': 81, 'technical': 1493, 'problems': 1145, 'hard': 635, 'ensure': 468, 'occur': 995, 'using': 1588, 'reviewed': 1284, 'question': 1193, 'success': 1463, 'submit': 1457, 'errors': 479, 'willing': 1649, 'look': 839, 'answer': 76, 'post': 1108, 'file': 542, 'exposure': 511, 'changing': 216, 'pages': 1045, 'told': 1527, 'coming': 249, 'example': 494, 'page': 1044, 'change': 213, 'couple': 322, 'mark': 883, 'living': 823, 'don': 411, 'means': 898, 'places': 1088, 'easily': 435, 'corporate': 313, 'detailed': 372, 'info': 711, 'feel': 538, 'earn': 432, 'businesses': 178, 'publishing': 1186, 'allows': 62, 'note': 981, 'services': 1351, 'book': 155, 'download': 416, 'multiple': 954, 'art': 94, 'carefully': 198, 'addresses': 32, 'included': 695, 'ways': 1629, 'build': 173, 'leads': 794, 'single': 1384, 'hours': 668, 'daily': 338, 'income': 698, 'building': 174, 'getting': 599, 'orders': 1031, 'profile': 1159, 'track': 1536, 'guaranteed': 624, 'immediate': 685, 'thousands': 1517, 'plus': 1096, 'automatically': 117, 'pay': 1062, 'added': 28, 'chance': 212, 'comments': 250, 'yahoo': 1673, 'size': 1389, 'second': 1326, 'word': 1658, 'offered': 999, 'newsletter': 974, 'probably': 1143, 'doing': 407, 'took': 1531, 'used': 1585, 'quite': 1199, 'difficult': 384, 'friend': 578, 'looks': 841, 'let': 801, 'think': 1510, 'professional': 1157, 'offering': 1000, 'contains': 293, 'maybe': 895, 'issues': 748, 'past': 1059, 'pricing': 1134, 'makes': 870, 'read': 1208, 'noticed': 984, 'link': 812, 'provided': 1182, 'payments': 1065, 'accepted': 7, 'did': 379, 'overall': 1039, 'non': 977, 'nice': 975, 'advertisement': 37, 'necessary': 966, 'doesn': 406, 'claims': 235, 'didn': 380, 'opinion': 1021, 'things': 1509, 'speak': 1412, 'does': 405, 'forms': 567, 'paid': 1046, 'presented': 1126, 'points': 1099, 'gets': 598, 'problem': 1144, 'started': 1429, 'suggest': 1466, 'promise': 1170, 'profit': 1160, 'taking': 1483, 'specifically': 1416, 'choice': 225, 'body': 153, 'environment': 473, 'existing': 501, 'able': 2, 'changed': 214, 'original': 1034, 'graphics': 615, 'works': 1663, 'old': 1008, 'instructions': 722, 'copyright': 309, 'request': 1255, 'id': 677, 'community': 261, 'providing': 1184, 'helping': 648, 'power': 1111, 'potential': 1110, 'breath': 162, 'minutes': 932, 'true': 1549, 'tell': 1498, 'jim': 758, 'agree': 53, 'fact': 518, 'selling': 1340, 'absolutely': 3, 'important': 690, 'sale': 1308, 'websites': 1632, 'simply': 1382, 'produce': 1151, 'reason': 1213, 'poor': 1101, 'purchase': 1187, 'letter': 802, 'individual': 708, 'matter': 892, 'door': 412, 'writing': 1668, 'customer': 336, 'car': 191, 'road': 1296, 'idea': 678, 'add': 27, 'millions': 927, 'love': 849, 'story': 1447, 'trying': 1553, 'sharing': 1364, 'world': 1664, 'desire': 370, 'beginning': 136, 'words': 1659, 'guarantee': 623, 'thought': 1514, 'talking': 1486, 'got': 613, 'lot': 848, 'lists': 819, 'benefits': 142, 'exactly': 492, 'space': 1408, 'sense': 1345, 'launch': 787, 'hit': 657, 'big': 146, 'discover': 393, 'finding': 548, 'reasons': 1214, 'flow': 555, 'goes': 609, 'care': 194, 'thing': 1508, 'test': 1501, 'run': 1301, 'check': 220, 'forget': 562, 'afraid': 45, 'begin': 135, 'american': 66, 'short': 1374, 'lead': 790, 'mean': 896, 'cause': 202, 'features': 533, 'readers': 1209, 'value': 1595, 'largest': 783, 'safe': 1304, 'instead': 721, 'kept': 771, 'fit': 551, 'safety': 1305, 'family': 525, 'manual': 881, 'understand': 1564, 'unless': 1573, 'avoid': 122, 'follow': 558, 'draft': 419, 'specific': 1415, 'women': 1656, 'senior': 1344, 'high': 652, 'school': 1321, 'summer': 1471, 'vacation': 1591, 'creating': 327, 'break': 160, 'continues': 298, 'different': 383, 'clicking': 239, 'effect': 443, 'generate': 595, 'comes': 248, 'faster': 528, 'stand': 1425, 'hundreds': 676, 'rest': 1273, 'unique': 1568, 'won': 1657, 'delete': 358, 'said': 1306, 'weight': 1637, 'understanding': 1565, 'impression': 691, 'complete': 267, 'consider': 284, 'buy': 180, 'boost': 157, 'customers': 337, 'entire': 472, 'satisfied': 1315, 'especially': 482, 'effective': 444, 'known': 778, 'field': 541, 'placed': 1087, 'obtain': 994, 'process': 1147, 'bonus': 154, 'main': 865, 'wait': 1621, 'deadline': 347, 'including': 697, 'remaining': 1241, 'miss': 933, 'cards': 193, 'steps': 1441, 'delivered': 360, 'processed': 1148, 'hold': 658, 'asked': 97, 'law': 789, 'required': 1259, 'act': 18, 'instantly': 720, 'far': 526, 'heard': 640, 'prompt': 1174, 'perfect': 1073, 'significant': 1379, 'increase': 700, 'improve': 692, 'brown': 170, 'average': 121, 'details': 373, 'profits': 1162, 'receipt': 1215, 'affiliate': 43, 'excellent': 496, 'uk': 1561, 'visitors': 1615, 'brand': 159, 'secret': 1328, 'men': 910, 'children': 223, 'stop': 1445, 'industry': 710, 'secure': 1330, 'hear': 639, 'enjoy': 466, 'advice': 39, 'market': 884, 'interesting': 727, 'draw': 422, 'weekly': 1635, 'survey': 1477, 'wrong': 1669, 'entered': 470, 'goal': 606, 'mailto': 863, 'yes': 1676, 'voice': 1619, 'accounts': 12, 'mime': 928, 'alternative': 63, 'encoding': 461, 'card': 192, 'processing': 1150, 'accept': 5, 'approved': 89, 'ok': 1007, 'approval': 88, 'confidential': 278, 'sold': 1396, 'application': 82, 'fee': 536, 'close': 242, 'bad': 125, 'apply': 84, 'express': 512, 'bank': 127, 'merchant': 913, 'returned': 1278, 'standard': 1426, 'shipping': 1368, 'fraud': 573, 'transaction': 1543, 'obligation': 993, 'step': 1439, 'contracts': 301, 'determine': 374, 'remain': 1240, 'completely': 269, 'domain': 410, 'number': 988, 'ss': 1422, 'removal': 1245, 'opt': 1024, 'option': 1026, 'loan': 826, 'mailings': 860, 'lenders': 799, 'equity': 476, 'nd': 963, 'debt': 352, 'verification': 1603, 'quick': 1195, 'offers': 1001, 'solicitation': 1397, 'provides': 1183, 'july': 767, 'say': 1318, 'proven': 1180, 'disclaimer': 390, 'incredibly': 703, 'huge': 674, 'actually': 25, 'venture': 1602, 'wall': 1623, 'friends': 579, 'associate': 102, 'called': 183, 'breaking': 161, 'self': 1338, 'hand': 630, 'path': 1060, 'includes': 696, 'goals': 607, 'helps': 649, 'partners': 1054, 'program': 1163, 'hall': 629, 'weeks': 1636, 'developed': 376, 'media': 901, 'growth': 622, 'base': 130, 'outside': 1037, 'expectations': 505, 'jeff': 755, 'priority': 1138, 'task': 1489, 'search': 1324, 'engines': 465, 'generic': 597, 'associated': 103, 'engine': 464, 'dear': 350, 'sir': 1385, 'confidence': 276, 'ago': 52, 'father': 530, 'ordered': 1029, 'deposit': 364, 'agreement': 55, 'stay': 1438, 'government': 614, 'fund': 584, 'demand': 362, 'introduce': 733, 'profitable': 1161, 'require': 1258, 'invested': 735, 'handle': 631, 'established': 484, 'percent': 1072, 'commission': 252, 'linux': 814, 'users': 1587, 'brian': 166, 'thousand': 1516, 'exclusive': 499, 'loss': 846, 'seen': 1335, 'ability': 1, 'deciding': 356, 'putting': 1190, 'areas': 93, 'left': 797, 'network': 971, 'white': 1641, 'black': 150, 'worth': 1666, 'types': 1560, 'discuss': 396, 'fixed': 552, 'similar': 1380, 'code': 244, 'easier': 434, 'common': 257, 'paper': 1048, 'wide': 1644, 'starting': 1430, 'middle': 923, 'gain': 589, 'computer': 271, 'submitted': 1458, 'identity': 682, 'pleased': 1094, 'continued': 297, 'forward': 569, 'hearing': 641, 'welcome': 1638, 'finally': 545, 'deliver': 359, 'package': 1042, 'multi': 953, 'capture': 190, 'exciting': 498, 'intended': 725, 'individuals': 709, 'agents': 51, 'database': 340, 'thanks': 1507, 'reduce': 1226, 'strongly': 1453, 'spam': 1409, 'result': 1274, 'independent': 704, 'rd': 1205, 'party': 1055, 'assured': 107, 'st': 1423, 'stock': 1443, 'play': 1093, 'thursday': 1518, 'volume': 1620, 'strong': 1452, 'certain': 210, 'highly': 654, 'position': 1104, 'tomorrow': 1529, 'near': 965, 'watch': 1627, 'moving': 950, 'august': 114, 'cheap': 219, 'ones': 1009, 'selected': 1337, 'reflect': 1229, 'appreciate': 85, 'imagine': 684, 'action': 19, 'small': 1391, 'super': 1472, 'international': 729, 'inform': 712, 'books': 156, 'cd': 205, 'index': 705, 'speed': 1417, 'suggested': 1467, 'given': 601, 'messages': 915, 'lost': 847, 'lst': 853, 'lose': 845, 'announced': 73, 'john': 761, 'progress': 1165, 'december': 353, 'communications': 260, 'employees': 457, 'managers': 878, 'participants': 1049, 'addition': 29, 'material': 889, 'achieve': 14, 'data': 339, 'cover': 324, 'register': 1234, 'effort': 447, 'requested': 1256, 'face': 516, 'budget': 172, 'schedule': 1319, 'truly': 1550, 'hour': 667, 'bit': 148, 'investors': 740, 'markets': 887, 'trader': 1538, 'annual': 75, 'return': 1277, 'advantage': 36, 'hello': 645, 'manage': 874, 'technology': 1494, 'managing': 879, 'located': 829, 'th': 1505, 'floor': 554, 'regards': 1233, 'legal': 798, 'pro': 1142, 'class': 236, 'tuesday': 1555, 'wednesday': 1633, 'ticket': 1519, 'payment': 1064, 'edition': 440, 'formats': 566, 'considered': 285, 'career': 195, 'standards': 1427, 'light': 806, 'canada': 186, 'accuracy': 13, 'purposes': 1189, 'telephone': 1497, 'tax': 1490, 'submitting': 1459, 'confirmation': 281, 'foreign': 561, 'currency': 332, 'dollar': 408, 'traders': 1539, 'returns': 1279, 'objectives': 992, 'sincerely': 1383, 'requests': 1257, 'inconvenience': 699, 'happen': 633, 'hi': 651, 'logos': 834, 'cell': 206, 'cool': 306, 'jackson': 751, 'heart': 642, 'smith': 1392, 'paying': 1063, 'reliable': 1239, 'emails': 455, 'opted': 1025, 'affiliated': 44, 'compliance': 270, 'promotion': 1171, 'protection': 1179, 'announce': 72, 'research': 1262, 'digital': 385, 'electronic': 452, 'department': 363, 'solutions': 1400, 'feedback': 537, 'winning': 1653, 'maximum': 894, 'china': 224, 'dynamic': 427, 'communicate': 258, 'platform': 1092, 'projects': 1169, 'supply': 1473, 'native': 960, 'ms': 952, 'input': 718, 'mobile': 936, 'operating': 1017, 'applications': 83, 'virtually': 1612, 'motion': 947, 'advanced': 35, 'education': 441, 'active': 21, 'drive': 424, 'tel': 1496, 'bed': 134, 'cialis': 228, 'normal': 978, 'lower': 851, 'store': 1446, 'statement': 1433, 'analysis': 67, 'reports': 1251, 'planning': 1090, 'job': 759, 'requires': 1261, 'files': 543, 'sending': 1343, 'related': 1236, 'implementation': 688, 'measure': 899, 'risks': 1295, 'approach': 86, 'thoughts': 1515, 'examples': 495, 'el': 451, 'server': 1349, 'europe': 488, 'notice': 983, 'likely': 808, 'tim': 1520, 'la': 780, 'presentation': 1125, 'discussed': 397, 'latest': 786, 'sponsored': 1420, 'video': 1610, 'protect': 1178, 'east': 436, 'movies': 949, 'recipient': 1221, 'press': 1129, 'release': 1238, 'biz': 149, 'january': 753, 'ceo': 209, 'microsoft': 921, 'tools': 1533, 'associates': 104, 'source': 1404, 'desk': 371, 'cooperation': 307, 'correct': 315, 'live': 822, 'seeking': 1334, 'costs': 318, 'touch': 1535, 'develop': 375, 'samples': 1312, 'instant': 719, 'usa': 1583, 'case': 199, 'aware': 123, 'rac': 1201, 'lon': 835, 'capital': 189, 'funds': 585, 'ca': 182, 'public': 1185, 'morning': 944, 'pleasure': 1095, 'behalf': 137, 'seek': 1333, 'nature': 962, 'project': 1166, 'represent': 1252, 'balance': 126, 'maintain': 866, 'finance': 546, 'compensation': 264, 'confidentiality': 279, 'acceptance': 6, 'ag': 48, 'federal': 535, 'discovered': 394, 'died': 381, 'november': 986, 'came': 185, 'document': 402, 'agreed': 54, 'dr': 418, 'audition': 113, 'hotel': 665, 'premier': 1117, 'event': 490, 'official': 1005, 'events': 491, 'leading': 793, 'countries': 320, 'variety': 1599, 'contacts': 291, 'owners': 1041, 'gives': 602, 'stream': 1450, 'settlements': 1354, 'prefer': 1116, 'confirm': 280, 'deals': 349, 'promotions': 1173, 'actions': 20, 'production': 1154, 'format': 565, 'man': 873, 'visual': 1617, 'national': 959, 'acquisition': 16, 'documentation': 403, 'medical': 902, 'prescription': 1122, 'knowledge': 777, 'european': 489, 'tv': 1558, 'analyst': 68, 'conference': 275, 'expected': 506, 'continuing': 299, 'expects': 507, 'expanding': 503, 'japan': 754, 'march': 882, 'generated': 596, 'transactions': 1544, 'completed': 268, 'record': 1223, 'gas': 591, 'growing': 621, 'infrastructure': 715, 'billion': 147, 'premium': 1119, 'model': 937, 'natural': 961, 'approximately': 90, 'assets': 99, 'commodities': 255, 'developing': 377, 'symbol': 1479, 'statements': 1434, 'meaning': 897, 'believes': 140, 'assumptions': 106, 'factors': 519, 'differ': 382, 'materially': 890, 'changes': 215, 'oil': 1006, 'efforts': 448, 'conditions': 274, 'en': 458, 'ne': 964, 'se': 1323, 'agent': 50, 'proposed': 1177, 'sources': 1405, 'logistics': 832, 'updates': 1579, 'eol': 474, 'quote': 1200, 'street': 1451, 'york': 1678, 'texas': 1503, 'west': 1640, 'afternoon': 47, 'button': 179, 'seconds': 1327, 'al': 58, 'sorry': 1403, 'select': 1336, 'verify': 1604, 'contacted': 290, 'dpr': 417, 'prepare': 1120, 'london': 836, 'summary': 1470, 'mike': 925, 'scott': 1322, 'joe': 760, 'young': 1679, 'strategy': 1449, 'distribution': 401, 'rich': 1288, 'elements': 453, 'savings': 1317, 'subsidiary': 1462, 'expand': 502, 'fyi': 588, 'thomas': 1513, 'ted': 1495, 'murphy': 955, 'penis': 1068, 'permanent': 1076, 'worked': 1661, 'gave': 592, 'anytime': 79, 'records': 1224, 'mails': 862, 'correspondence': 316, 'units': 1571, 'impact': 687, 'equipment': 475, 'es': 481, 'los': 844, 'indicating': 707, 'issued': 747, 'discreet': 395, 'giving': 603, 'head': 637, 'kevin': 772, 'majority': 868, 'committee': 254, 'greg': 617, 'positions': 1105, 'sec': 1325, 'investments': 738, 'amazing': 64, 'taken': 1481, 'fresh': 576, 'suite': 1468, 'follows': 560, 'various': 1600, 'presently': 1127, 'importance': 689, 'terms': 1500, 'stated': 1432, 'bring': 167, 'guide': 625, 'grow': 620, 'bulk': 176, 'revenue': 1281, 'hot': 664, 'var': 1597, 'steve': 1442, 'eugenio': 487, 'jennifer': 757, 'aa': 0, 'night': 976, 'trades': 1540, 'talked': 1485, 'qualified': 1191, 'plans': 1091, 'improvement': 693, 'lisa': 815, 'activity': 23, 'september': 1347, 'earlier': 430, 'status': 1437, 'leader': 791, 'commitment': 253, 'count': 319, 'viagra': 1607, 'revenues': 1282, 'laura': 788, 'beth': 144, 'apollo': 80, 'sap': 1313, 'identify': 681, 'updated': 1578, 'processes': 1149, 'smtp': 1393, 'testing': 1502, 'increased': 701, 'fortune': 568, 'fastest': 529, 'heaven': 643, 'failed': 522, 'positive': 1106, 'focused': 557, 'house': 669, 'concern': 272, 'tried': 1547, 'nowadays': 987, 'ordering': 1030, 'discount': 391, 'hands': 632, 'guys': 626, 'effects': 446, 'drugs': 425, 'acquire': 15, 'discounts': 392, 'pharmaceutical': 1080, 'extremely': 515, 'mg': 919, 'convenience': 304, 'holding': 659, 'estate': 485, 'competitors': 266, 'method': 918, 'went': 1639, 'calls': 184, 'limit': 809, 'sender': 1342, 'according': 9, 'concerns': 273, 'reeves': 1227, 'brenda': 164, 'hr': 671, 'ut': 1589, 'chicago': 221, 'portfolio': 1103, 'llc': 825, 'unsolicited': 1575, 'sh': 1359, 'facts': 520, 'initial': 717, 'passed': 1057, 'thinking': 1512, 'decide': 354, 'moved': 948, 'previous': 1130, 'fernley': 540, 'buying': 181, 'dyson': 429, 'richard': 1289, 'aim': 56, 'invisible': 741, 'cl': 233, 'satisfaction': 1314, 'valued': 1596, 'sa': 1303, 'versions': 1606, 'promotional': 1172, 'mx': 956, 'waiting': 1622, 'herod': 650, 'fall': 524, 'trip': 1548, 'analysts': 69, 'chris': 227, 'decision': 357, 'indicated': 706, 'barry': 129, 'extended': 513, 'manner': 880, 'strategic': 1448, 'numerous': 990, 'distribute': 400, 'investor': 739, 'range': 1202, 'estimates': 486, 'air': 57, 'contained': 292, 'litigation': 820, 'identified': 680, 'intend': 724, 'advisor': 42, 'investing': 736, 'advised': 40, 'shares': 1363, 'factual': 521, 'recipients': 1222, 'mo': 935, 'va': 1590, 'wi': 1643, 'specially': 1414, 'remote': 1244, 'experienced': 510, 'password': 1058, 'dramatically': 421, 'leslie': 800, 'sheri': 1366, 'central': 208, 'peggy': 1067, 'candidates': 187, 'april': 91, 'october': 996, 'responsible': 1272, 'struggle': 1455, 'cs': 331, 'interview': 731, 'understands': 1566, 'built': 175, 'ship': 1367, 'alert': 59, 'featured': 532, 'xp': 1672, 'ny': 991, 'urge': 1580, 'tom': 1528, 'discussions': 399, 'frank': 572, 'attempts': 109, 'scheduled': 1320, 'stocks': 1444, 'produced': 1152, 'popular': 1102, 'notification': 985, 'pc': 1066, 'helo': 646, 'participation': 1051, 'mailbox': 857, 'ave': 120, 'andrew': 71, 'na': 957, 'sp': 1407, 'met': 916, 'moscoso': 946, 'higher': 653, 'max': 893, 'shops': 1373, 'log': 831, 'mailer': 858, 'shareholder': 1362, 'involve': 742, 'predictions': 1115, 'beliefs': 138, 'projections': 1168, 'historical': 655, 'uncertainties': 1563, 'anticipated': 77, 'anticipates': 78, 'understood': 1567, 'respective': 1267, 'dysfunction': 428, 'origination': 1035, 'cap': 188, 'penny': 1069, 'rob': 1297, 'ac': 4, 'representative': 1253, 'packages': 1043, 'posted': 1109, 'shouldn': 1375, 'teams': 1492, 'revised': 1286, 'structure': 1454, 'james': 752, 'spamassassin': 1410, 'stephen': 1440, 'interviews': 732, 'dvd': 426, 'dave': 343, 'drafts': 420, 'norton': 980, 'conflict': 282, 'inherent': 716, 'todd': 1526, 'erectile': 477, 'sightings': 1376, 'sf': 1358, 'thinkgeek': 1511, 'geek': 593, 'otc': 1036, 'consumer': 288, 'logo': 833, 'doorstep': 413, 'entertainment': 471, 'failure': 523, 'gaps': 590, 'jordan': 765, 'jeffrey': 756, 'oem': 997, 'browse': 171, 'wasn': 1626, 'alias': 60, 'metals': 917, 'med': 900, 'soft': 1394, 'creative': 328, 'designated': 368, 'collaboration': 245, 'dose': 414, 'adobe': 34, 'photoshop': 1082, 'quickbooks': 1196, 'spanish': 1411, 'lt': 854, 'prc': 1113, 'premiere': 1118, 'woman': 1655, 'french': 575, 'advises': 41, 'shona': 1370, 'vl': 1618, 'mix': 934, 'studio': 1456, 'construed': 287, 'wiil': 1647, 'exampies': 493, 'oniy': 1011, 'toois': 1530, 'oniine': 1010, 'macromedia': 855, 'um': 1562, 'stationery': 1436, 'professionai': 1156, 'wiii': 1646, 'sampies': 1311, 'cialls': 229, 'errrectlon': 480, 'riqht': 1293, 'mens': 911, 'jokes': 763, 'sais': 1307, 'viaqra': 1608, 'convinient': 305, 'peopie': 1070, 'isv': 749, 'andmanyother': 70, 'lf': 804, 'vain': 1592, 'turnaround': 1557, 'wili': 1648, 'visible': 1613, 'reqards': 1254, 'shlpplng': 1369, 'acrobat': 17, 'projecthoneypot': 1167, 'breathing': 163, 'revamping': 1280, 'carefui': 196, 'marketinq': 886, 'brinq': 168, 'artwork': 95, 'visuai': 1616, 'ioqo': 744, 'corel': 311, 'loqos': 843, 'ciick': 230, 'contemporary': 294, 'rhythm': 1287, 'remembered': 1243, 'variants': 1598, 'loqo': 842, 'koi': 779, 'corei': 310, 'xara': 1671, 'eiements': 450, 'painter': 1047, 'framemaker': 571, 'quicken': 1197, 'localized': 828, 'confidentiaiity': 277, 'tue': 1554, 'miiiion': 924, 'egm': 449, 'prlces': 1141, 'languages': 781, 'jul': 766, 'successfull': 1465, 'mailwisconsin': 864, 'squirrelmail': 1421, 'authenticated': 116, 'gzo': 627, 'castillo': 201, 'dreamweaver': 423, 'homesite': 661}\n"
     ]
    }
   ],
   "source": [
    "from sklearn.feature_extraction.text import TfidfVectorizer\n",
    "\n",
    "vec = TfidfVectorizer(max_df=0.8,\n",
    "                      min_df=50,\n",
    "                      stop_words='english')\n",
    "X = vec.fit_transform(all_word_list)\n",
    "#print(X)\n",
    "print(vec.vocabulary_)"
   ]
  },
  {
   "cell_type": "markdown",
   "metadata": {},
   "source": [
    "### Part C: Perform Clustering [10 points]"
   ]
  },
  {
   "cell_type": "markdown",
   "metadata": {},
   "source": [
    "Perform clustering on the document matrix X using GMMs. \n",
    "- Use the `GaussianMixture` module from [scikit-learn](http://scikit-learn.org/stable/modules/generated/sklearn.mixture.GaussianMixture.html) to cluster the documents.\n",
    "- Set the number of clusters (mixture components) to 3.\n",
    "- Print the number of documents assigned to each cluster."
   ]
  },
  {
   "cell_type": "code",
   "execution_count": 29,
   "metadata": {},
   "outputs": [
    {
     "name": "stdout",
     "output_type": "stream",
     "text": [
      "[1 0 1 ... 0 0 2]\n"
     ]
    }
   ],
   "source": [
    "from sklearn.mixture import GaussianMixture\n",
    "\n",
    "gmm = GaussianMixture(n_components=3)\n",
    "gmm.fit(X.toarray())\n",
    "\n",
    "gmm_cluster_assignments = gmm.predict(X.toarray())\n"
   ]
  },
  {
   "cell_type": "code",
   "execution_count": 33,
   "metadata": {},
   "outputs": [
    {
     "name": "stdout",
     "output_type": "stream",
     "text": [
      "Num in Cluster 0:  4129\n",
      "Num in Cluster 1:  365\n",
      "Num in Cluster 2:  677\n"
     ]
    }
   ],
   "source": [
    "import numpy as np\n",
    "\n",
    "print(\"Num in Cluster 0: \", np.sum(gmm_cluster_assignments==0))\n",
    "print(\"Num in Cluster 1: \", np.sum(gmm_cluster_assignments==1))\n",
    "print(\"Num in Cluster 2: \", np.sum(gmm_cluster_assignments==2))"
   ]
  },
  {
   "cell_type": "markdown",
   "metadata": {},
   "source": [
    "### Part D: Characterize the clusters [10 points]"
   ]
  },
  {
   "cell_type": "markdown",
   "metadata": {},
   "source": [
    "Now, we will attempt to characterize the clusters based on the frequency of spam-relevant words. \n",
    "- Select 3 \"spammy\" words from the vocabulary that you expect to occur frequently in spam emails and less frequently in normal business emails (e.g., 'click', 'www', 'offer'). Construct a list, `spam_indices`, storing the indices of the spammy words you selected in the vocabulary generated by `TfidfVectorizer`.\n",
    "- Select 3 \"hammy\" words from the vocabulary you think will occur frequently in business emails and infrequently in spam emails (e.g., 'meeting', 'attached', 'review'). Construct a list, `ham_indices`, storing the indices of the hammy words you selected in the vocabulary generated by `TfidfVectorizer`.\n",
    "- Use the function provided below, `plot_spam_words_by_cluster`, to plot the average TF-IDF features for your selected spammy words and hammy words for each cluster. The function takes four parameters:\n",
    "    - `predicted` is predicted cluster assignments returned by `GaussianMixture.predict()`\n",
    "    - `n_clusters` is the number of clusters. This should match the number of clusters from your GMM.\n",
    "    - `spam_indices` is a list of indices of spammy words in the vocabulary.\n",
    "    - `ham_indices` is a list of indices of hammy (typical business) words in the vocabulary."
   ]
  },
  {
   "cell_type": "code",
   "execution_count": 38,
   "metadata": {},
   "outputs": [],
   "source": [
    "def plot_spam_words_by_cluster(predicted, n_clusters, spam_indices, ham_indices):\n",
    "    import numpy as np\n",
    "    import matplotlib.pyplot as plt\n",
    "    \n",
    "    # Calculate mean TF-IDF features for each cluster\n",
    "    mean_tfidf_spam = []\n",
    "    mean_tfidf_ham = []\n",
    "    for spam in spam_indices:\n",
    "        mean_tfidf_spam.append([])\n",
    "    for ham in ham_indices:\n",
    "        mean_tfidf_ham.append([])\n",
    "    \n",
    "    for i in range(n_clusters):\n",
    "        for j, spam_idx in enumerate(spam_indices):\n",
    "            mean_tfidf_spam[j].append(X[predicted==i, spam_idx].mean())\n",
    "        for j, ham_idx in enumerate(ham_indices):\n",
    "            mean_tfidf_ham[j].append(X[predicted==i, ham_idx].mean())\n",
    "    \n",
    "    # Generate plot\n",
    "    fig, ax = plt.subplots()\n",
    "\n",
    "    ind = np.arange(n_clusters)    # the x locations for the groups\n",
    "    width = 0.10         # the width of the bars\n",
    "\n",
    "    # Plot spam bars\n",
    "    for i, val in enumerate(mean_tfidf_spam):\n",
    "        spam_bar = ax.bar(ind - (len(mean_tfidf_spam)-i-1)*width, val, width, color='r', bottom=0)\n",
    "\n",
    "    # Plot ham bars\n",
    "    for i, val in enumerate(mean_tfidf_ham):\n",
    "        ham_bar = ax.bar(ind + (len(mean_tfidf_ham)-i)*width, val, width,\n",
    "                color='y', bottom=0)\n",
    "\n",
    "    ax.set_title('Mean TF-IDF Features by Cluster for Spam-Relevant Words')\n",
    "    ax.set_xticks(ind + width / 2)\n",
    "    xticklabels = []\n",
    "    for i in range(n_clusters):\n",
    "        xticklabels.append('Cluster ' + str(i) + '\\n(n=' + str((predicted==i).sum()) + ')')\n",
    "    ax.set_xticklabels(xticklabels)\n",
    "\n",
    "    ax.legend((spam_bar[0], ham_bar[0]), ('Spammy words', 'Hammy words'))\n",
    "    ax.autoscale_view()\n",
    "    ax.set_ylabel('Mean TF-IDF')\n",
    "    plt.show()"
   ]
  },
  {
   "cell_type": "code",
   "execution_count": 39,
   "metadata": {},
   "outputs": [
    {
     "data": {
      "image/png": "[encoded data removed]",
      "text/plain": [
       "<Figure size 432x288 with 1 Axes>"
      ]
     },
     "metadata": {
      "needs_background": "light"
     },
     "output_type": "display_data"
    }
   ],
   "source": [
    "spam_idx = [vec.vocabulary_['click'], vec.vocabulary_['www'], vec.vocabulary_['offer']]\n",
    "ham_idx = [vec.vocabulary_['meeting'], vec.vocabulary_['attached'], vec.vocabulary_['review']]\n",
    "\n",
    "plot_spam_words_by_cluster(gmm_cluster_assignments, 3, spam_idx, ham_idx)"
   ]
  },
  {
   "cell_type": "markdown",
   "metadata": {},
   "source": [
    "### Part E: Interpret results [10 points]"
   ]
  },
  {
   "cell_type": "markdown",
   "metadata": {},
   "source": [
    "From the plot generated in part (d), do any of the clusters correspond to spam emails, based on the frequency of spammy and hammy words? Do any of the clusters appear to correspond to typical business emails (ham)? \n",
    "\n",
    "Re-run your analysis with a different choice for the number of clusters in your GMM (e.g., `n_clusters=5` or `n_clusters=2`). How does changing the number of clusters affect your results? Does one choice of `n_clusters` appear better than another for locating clusters of spam emails?"
   ]
  },
  {
   "cell_type": "markdown",
   "metadata": {},
   "source": [
    "Based on the words I've picked, it seems like you could make a solid case for cluster 1 being the one for \"hammy\" words, and cluster 2 to be \"spammy\" but the other ones split enough that it's hard to tell. I tried both 2 clusters and 5, and neither helped much either it looks like. With 5 clusters, almost 3 of them could be \"spammy\" clusters but only one could be a \"hammy\" one.\" "
   ]
  },
  {
   "cell_type": "code",
   "execution_count": 40,
   "metadata": {},
   "outputs": [
    {
     "data": {
      "image/png": "[encoded data removed]",
      "text/plain": [
       "<Figure size 432x288 with 1 Axes>"
      ]
     },
     "metadata": {
      "needs_background": "light"
     },
     "output_type": "display_data"
    }
   ],
   "source": [
    "gmm2 = GaussianMixture(n_components=2)\n",
    "gmm2.fit(X.toarray())\n",
    "\n",
    "gmm_cluster_assignments2 = gmm2.predict(X.toarray())\n",
    "\n",
    "plot_spam_words_by_cluster(gmm_cluster_assignments2, 2, spam_idx, ham_idx)"
   ]
  },
  {
   "cell_type": "code",
   "execution_count": 41,
   "metadata": {},
   "outputs": [
    {
     "data": {
      "image/png": "[encoded data removed]",
      "text/plain": [
       "<Figure size 432x288 with 1 Axes>"
      ]
     },
     "metadata": {
      "needs_background": "light"
     },
     "output_type": "display_data"
    }
   ],
   "source": [
    "gmm5 = GaussianMixture(n_components=5)\n",
    "gmm5.fit(X.toarray())\n",
    "\n",
    "gmm_cluster_assignments5 = gmm5.predict(X.toarray())\n",
    "\n",
    "plot_spam_words_by_cluster(gmm_cluster_assignments5, 5, spam_idx, ham_idx)"
   ]
  },
  {
   "cell_type": "markdown",
   "metadata": {},
   "source": [
    "## Question 2: Latent \"Purposes\" in Mobile Apps [45 points]\n",
    "\n",
    "\n",
    "Think of Android applications as \"documents\", where \"words\" are the \"permissions\" that each app requests. Each app has a set of latent \"purposes\" (topics); a \"purpose\" may be a specific task (such as taking photographs and uploading them to the internet), and an application may have a mixture of purposes of varying strength.\n",
    "\n",
    "Can we uncover these purposes from a dataset of Android applications and the permissions they request?"
   ]
  },
  {
   "cell_type": "code",
   "execution_count": 42,
   "metadata": {},
   "outputs": [],
   "source": [
    "import numpy as np\n",
    "import matplotlib.pyplot as plt\n",
    "import pandas as pd\n",
    "%matplotlib inline"
   ]
  },
  {
   "cell_type": "markdown",
   "metadata": {},
   "source": [
    "### Part A: Load the data [0 points]"
   ]
  },
  {
   "cell_type": "markdown",
   "metadata": {},
   "source": [
    "The [dataset](http://www.mariofrank.net/andrApps/) contains ~180,000 applications from the Android app store, including each app's name, description and permissions requested. For more about Android app permissions, see [this report](http://www.pewinternet.org/2015/11/10/an-analysis-of-android-app-permissions/).\n",
    "\n",
    "   * Download the data and unzip it into the same folder as this notebook.\n",
    "   * Rename the CSV file to \"android.csv\".\n",
    "   * Run the cells below to load the data into the notebook.\n",
    "\n",
    "This may take up ~2GB of RAM."
   ]
  },
  {
   "cell_type": "code",
   "execution_count": 44,
   "metadata": {},
   "outputs": [],
   "source": [
    "df = pd.read_csv(\"android.csv\", sep=\",\",  thousands=\",\")"
   ]
  },
  {
   "cell_type": "code",
   "execution_count": 45,
   "metadata": {},
   "outputs": [],
   "source": [
    "df[\"Number of ratings\"] = df[\"Number of ratings\"].astype(int) # fix data type\n",
    "df = df.drop_duplicates(subset=[\"App\"]).reset_index(drop=True)"
   ]
  },
  {
   "cell_type": "code",
   "execution_count": 46,
   "metadata": {},
   "outputs": [
    {
     "data": {
      "text/html": [
       "<div>\n",
       "<style scoped>\n",
       "    .dataframe tbody tr th:only-of-type {\n",
       "        vertical-align: middle;\n",
       "    }\n",
       "\n",
       "    .dataframe tbody tr th {\n",
       "        vertical-align: top;\n",
       "    }\n",
       "\n",
       "    .dataframe thead th {\n",
       "        text-align: right;\n",
       "    }\n",
       "</style>\n",
       "<table border=\"1\" class=\"dataframe\">\n",
       "  <thead>\n",
       "    <tr style=\"text-align: right;\">\n",
       "      <th></th>\n",
       "      <th>App</th>\n",
       "      <th>Package</th>\n",
       "      <th>Category</th>\n",
       "      <th>Description</th>\n",
       "      <th>Rating</th>\n",
       "      <th>Number of ratings</th>\n",
       "      <th>Price</th>\n",
       "      <th>Related apps</th>\n",
       "      <th>Dangerous permissions count</th>\n",
       "      <th>Safe permissions count</th>\n",
       "      <th>...</th>\n",
       "      <th>Your personal information : read Browser's history and bookmarks (D)</th>\n",
       "      <th>Your personal information : read calendar events (D)</th>\n",
       "      <th>Your personal information : read contact data (D)</th>\n",
       "      <th>Your personal information : read sensitive log data (D)</th>\n",
       "      <th>Your personal information : read user defined dictionary (D)</th>\n",
       "      <th>Your personal information : retrieve system internal state (S)</th>\n",
       "      <th>Your personal information : set alarm in alarm clock (S)</th>\n",
       "      <th>Your personal information : write Browser's history and bookmarks (D)</th>\n",
       "      <th>Your personal information : write contact data (D)</th>\n",
       "      <th>Your personal information : write to user defined dictionary (S)</th>\n",
       "    </tr>\n",
       "  </thead>\n",
       "  <tbody>\n",
       "    <tr>\n",
       "      <th>0</th>\n",
       "      <td>Google Maps</td>\n",
       "      <td>com.google.android.apps.maps</td>\n",
       "      <td>Travel &amp; Local</td>\n",
       "      <td>Download the latest release of Google Maps, an...</td>\n",
       "      <td>4.4</td>\n",
       "      <td>1438259</td>\n",
       "      <td>$0.00</td>\n",
       "      <td>{com.jsdfproductions.ctatrackerpro, com.alk.co...</td>\n",
       "      <td>17.0</td>\n",
       "      <td>8</td>\n",
       "      <td>...</td>\n",
       "      <td>0</td>\n",
       "      <td>0</td>\n",
       "      <td>1</td>\n",
       "      <td>0</td>\n",
       "      <td>0</td>\n",
       "      <td>0</td>\n",
       "      <td>0</td>\n",
       "      <td>0</td>\n",
       "      <td>1</td>\n",
       "      <td>0</td>\n",
       "    </tr>\n",
       "    <tr>\n",
       "      <th>1</th>\n",
       "      <td>Snowfall Live Wallpaper</td>\n",
       "      <td>fishnoodle.snowfall_free</td>\n",
       "      <td>Personalization</td>\n",
       "      <td>Snowfall Live Wallpaper: Wintertime on your ho...</td>\n",
       "      <td>4.3</td>\n",
       "      <td>18147</td>\n",
       "      <td>$0.00</td>\n",
       "      <td>{colfore.wallpaper.snowfree, com.tabsoft.wallp...</td>\n",
       "      <td>0.0</td>\n",
       "      <td>0</td>\n",
       "      <td>...</td>\n",
       "      <td>0</td>\n",
       "      <td>0</td>\n",
       "      <td>0</td>\n",
       "      <td>0</td>\n",
       "      <td>0</td>\n",
       "      <td>0</td>\n",
       "      <td>0</td>\n",
       "      <td>0</td>\n",
       "      <td>0</td>\n",
       "      <td>0</td>\n",
       "    </tr>\n",
       "    <tr>\n",
       "      <th>2</th>\n",
       "      <td>Aquarium Live Wallpaper</td>\n",
       "      <td>fishnoodle.aquarium_free</td>\n",
       "      <td>Personalization</td>\n",
       "      <td>A beautiful tropical fish tank live wallpaper!...</td>\n",
       "      <td>4.1</td>\n",
       "      <td>62145</td>\n",
       "      <td>$0.00</td>\n",
       "      <td>{com.convisual.lwp.fishometerlite, com.accessl...</td>\n",
       "      <td>0.0</td>\n",
       "      <td>0</td>\n",
       "      <td>...</td>\n",
       "      <td>0</td>\n",
       "      <td>0</td>\n",
       "      <td>0</td>\n",
       "      <td>0</td>\n",
       "      <td>0</td>\n",
       "      <td>0</td>\n",
       "      <td>0</td>\n",
       "      <td>0</td>\n",
       "      <td>0</td>\n",
       "      <td>0</td>\n",
       "    </tr>\n",
       "  </tbody>\n",
       "</table>\n",
       "<p>3 rows × 183 columns</p>\n",
       "</div>"
      ],
      "text/plain": [
       "                       App                       Package         Category  \\\n",
       "0              Google Maps  com.google.android.apps.maps   Travel & Local   \n",
       "1  Snowfall Live Wallpaper      fishnoodle.snowfall_free  Personalization   \n",
       "2  Aquarium Live Wallpaper      fishnoodle.aquarium_free  Personalization   \n",
       "\n",
       "                                         Description  Rating  \\\n",
       "0  Download the latest release of Google Maps, an...     4.4   \n",
       "1  Snowfall Live Wallpaper: Wintertime on your ho...     4.3   \n",
       "2  A beautiful tropical fish tank live wallpaper!...     4.1   \n",
       "\n",
       "   Number of ratings  Price  \\\n",
       "0            1438259  $0.00   \n",
       "1              18147  $0.00   \n",
       "2              62145  $0.00   \n",
       "\n",
       "                                        Related apps  \\\n",
       "0  {com.jsdfproductions.ctatrackerpro, com.alk.co...   \n",
       "1  {colfore.wallpaper.snowfree, com.tabsoft.wallp...   \n",
       "2  {com.convisual.lwp.fishometerlite, com.accessl...   \n",
       "\n",
       "   Dangerous permissions count  Safe permissions count  ...  \\\n",
       "0                         17.0                       8  ...   \n",
       "1                          0.0                       0  ...   \n",
       "2                          0.0                       0  ...   \n",
       "\n",
       "   Your personal information : read Browser's history and bookmarks (D)  \\\n",
       "0                                                  0                      \n",
       "1                                                  0                      \n",
       "2                                                  0                      \n",
       "\n",
       "   Your personal information : read calendar events (D)  \\\n",
       "0                                                  0      \n",
       "1                                                  0      \n",
       "2                                                  0      \n",
       "\n",
       "   Your personal information : read contact data (D)  \\\n",
       "0                                                  1   \n",
       "1                                                  0   \n",
       "2                                                  0   \n",
       "\n",
       "   Your personal information : read sensitive log data (D)  \\\n",
       "0                                                  0         \n",
       "1                                                  0         \n",
       "2                                                  0         \n",
       "\n",
       "   Your personal information : read user defined dictionary (D)  \\\n",
       "0                                                  0              \n",
       "1                                                  0              \n",
       "2                                                  0              \n",
       "\n",
       "   Your personal information : retrieve system internal state (S)  \\\n",
       "0                                                  0                \n",
       "1                                                  0                \n",
       "2                                                  0                \n",
       "\n",
       "   Your personal information : set alarm in alarm clock (S)  \\\n",
       "0                                                  0          \n",
       "1                                                  0          \n",
       "2                                                  0          \n",
       "\n",
       "   Your personal information : write Browser's history and bookmarks (D)  \\\n",
       "0                                                  0                       \n",
       "1                                                  0                       \n",
       "2                                                  0                       \n",
       "\n",
       "   Your personal information : write contact data (D)  \\\n",
       "0                                                  1    \n",
       "1                                                  0    \n",
       "2                                                  0    \n",
       "\n",
       "   Your personal information : write to user defined dictionary (S)  \n",
       "0                                                  0                 \n",
       "1                                                  0                 \n",
       "2                                                  0                 \n",
       "\n",
       "[3 rows x 183 columns]"
      ]
     },
     "execution_count": 46,
     "metadata": {},
     "output_type": "execute_result"
    }
   ],
   "source": [
    "df.head(n=3)"
   ]
  },
  {
   "cell_type": "markdown",
   "metadata": {},
   "source": [
    "### Part B: Convert each app into a \"document\" [0 points]\n",
    "\n",
    "The code below does the following:\n",
    "\n",
    "   * Filter out all the columns except the permission columns.\n",
    "   * Convert this dataframe into a numpy matrix.\n",
    "\n",
    "There are thus 180295 apps (documents) and 173 permissions (words).\n",
    "\n",
    "   - `X` is the \"document\" or \"word-frequency\" matrix.\n",
    "   - `permission_columns` contains the words ordered by their column index in X.\n",
    "   - `app_names` contains the application names ordered by their row index in X.\n",
    "   - `app_ratings` contains the *number* of application ratings (not the ratings themselves)."
   ]
  },
  {
   "cell_type": "code",
   "execution_count": 48,
   "metadata": {},
   "outputs": [],
   "source": [
    "permission_columns = list(df.columns[10:])\n",
    "app_names = list(df[\"App\"])\n",
    "app_ratings = np.array(df[\"Number of ratings\"])\n",
    "df_perms = df[permission_columns]\n",
    "X = df_perms.values\n",
    "#del df # uncomment to free up RAM\n",
    "#del df_perms # uncomment to free up RAM"
   ]
  },
  {
   "cell_type": "markdown",
   "metadata": {},
   "source": [
    "### Part C: Downweight \"stop-words\" [2.5 points]\n",
    "\n",
    "There are some permissions requested by almost all applications (like \"INTERNET\"), they are similar to stop-words (\"the\", \"and\", etc.) in natural language. We can downweight them by TF-IDF normalization.\n",
    "\n",
    "   * Use the `TfidfTransformer` class in `scikit-learn` to transform X."
   ]
  },
  {
   "cell_type": "code",
   "execution_count": 54,
   "metadata": {},
   "outputs": [],
   "source": [
    "from sklearn.feature_extraction.text import TfidfTransformer\n",
    "\n",
    "trans = TfidfTransformer()\n",
    "\n",
    "X_norm = trans.fit_transform(X)"
   ]
  },
  {
   "cell_type": "markdown",
   "metadata": {},
   "source": [
    "### Part D: Discover 10 \"topics\" [2.5 points]\n",
    "\n",
    "   * Use the `LatentDirichletAllocation` class in `scikit-learn` to fit 10 topics to the data.\n",
    "   * Use 10 max iterations, set `n_jobs=-1` to use all cores on your machine (if it helps).\n",
    "   * Feel free to understand and play around with other parameters.\n",
    "   * This may take around 3 minutes to run."
   ]
  },
  {
   "cell_type": "code",
   "execution_count": 52,
   "metadata": {},
   "outputs": [
    {
     "name": "stdout",
     "output_type": "stream",
     "text": [
      "Wall time: 1min 5s\n"
     ]
    },
    {
     "data": {
      "text/plain": [
       "LatentDirichletAllocation(n_jobs=-1)"
      ]
     },
     "execution_count": 52,
     "metadata": {},
     "output_type": "execute_result"
    }
   ],
   "source": [
    "%%time\n",
    "from sklearn.decomposition import LatentDirichletAllocation\n",
    "\n",
    "lda = LatentDirichletAllocation(n_components=10, max_iter=10, n_jobs=-1)\n",
    "lda.fit(X_norm)"
   ]
  },
  {
   "cell_type": "markdown",
   "metadata": {},
   "source": [
    "Now each app can be viewed as a distribution over these 10 topics, and each topic is a distribution over all the permissions in the data."
   ]
  },
  {
   "cell_type": "markdown",
   "metadata": {},
   "source": [
    "### Part E: List the top 10 \"words\" in each topic [15 points]\n",
    "\n",
    "Do any of the topics correspond to meaningful app \"purposes\"? List the ones you find meaningful below:\n",
    "\n",
    "   * Topic #i: \"your interpretation\""
   ]
  },
  {
   "cell_type": "code",
   "execution_count": 56,
   "metadata": {},
   "outputs": [
    {
     "name": "stdout",
     "output_type": "stream",
     "text": [
      "Displaying the top 10 words per topic and their probabilities within the topic...\n",
      "\n",
      "[Topic 0]\n",
      "System tools : prevent device from sleeping (D) : 0.4215918213444122\n",
      "Network communication : full Internet access (D) : 0.10421126730454816\n",
      "Storage : modify/delete USB storage contents modify/delete SD card contents (D) : 0.10277193098230333\n",
      "Network communication : view network state (S) : 0.08258468574871097\n",
      "Phone calls : read phone state and identity (D) : 0.07525590021530033\n",
      "Hardware controls : control vibrator (S) : 0.06259357967938843\n",
      "System tools : disable keylock (D) : 0.05532990958259518\n",
      "System tools : send sticky broadcast (S) : 0.026340179283311265\n",
      "Default : modify battery statistics (S) : 0.017798464404325105\n",
      "Default : change screen orientation (S) : 0.01503075292453332\n",
      "\n",
      "[Topic 1]\n",
      "System tools : mount and unmount filesystems (D) : 0.10468503624855142\n",
      "Your personal information : read calendar events (D) : 0.08751951560833432\n",
      "Your personal information : add or modify calendar events and send email to guests (D) : 0.08240865373382657\n",
      "Storage : modify/delete USB storage contents modify/delete SD card contents (D) : 0.07515111919006515\n",
      "Your personal information : read sensitive log data (D) : 0.0620608282946102\n",
      "Network communication : view network state (S) : 0.05945675009073713\n",
      "System tools : change your UI settings (D) : 0.057109238612792664\n",
      "Network communication : full Internet access (D) : 0.05654050058938032\n",
      "Phone calls : read phone state and identity (D) : 0.05339502546528962\n",
      "Services that cost you money : directly call phone numbers (D) : 0.04249816159714018\n",
      "\n",
      "[Topic 2]\n",
      "Phone calls : read phone state and identity (D) : 0.27947733098530175\n",
      "Network communication : view network state (S) : 0.16043244371656568\n",
      "Network communication : full Internet access (D) : 0.14835944981679056\n",
      "Storage : modify/delete USB storage contents modify/delete SD card contents (D) : 0.09231392685965875\n",
      "Network communication : receive data from Internet (S) : 0.08890276562677804\n",
      "System tools : retrieve running applications (D) : 0.08413523819533493\n",
      "Your location : fine (GPS) location (D) : 0.05944719545476861\n",
      "Your location : coarse (network-based) location (D) : 0.04338601397401617\n",
      "System tools : prevent device from sleeping (D) : 0.016666154441454972\n",
      "Services that cost you money : directly call phone numbers (D) : 0.01575014305468447\n",
      "\n",
      "[Topic 3]\n",
      "Network communication : view network state (S) : 0.5907572933868003\n",
      "Network communication : full Internet access (D) : 0.4081969938883476\n",
      "Default : prevent app switches (S) : 0.0002400063127203143\n",
      "Default : start IM service (S) : 2.9323284500848034e-05\n",
      "Your accounts : Google Voice (D) : 2.4418259335098933e-05\n",
      "Storage : modify/delete USB storage contents modify/delete SD card contents (D) : 4.476284448760785e-06\n",
      "Your location : fine (GPS) location (D) : 4.476038943111411e-06\n",
      "Your location : coarse (network-based) location (D) : 4.476016543965492e-06\n",
      "System tools : prevent device from sleeping (D) : 4.476009218909661e-06\n",
      "Your personal information : read contact data (D) : 4.476002644789026e-06\n",
      "\n",
      "[Topic 4]\n",
      "Hardware controls : control vibrator (S) : 0.28113710129967845\n",
      "System tools : automatically start at boot (S) : 0.12611863119381803\n",
      "Network communication : full Internet access (D) : 0.11458519305969217\n",
      "Network communication : view network state (S) : 0.09907070470043604\n",
      "Phone calls : read phone state and identity (D) : 0.07539025846999288\n",
      "Storage : modify/delete USB storage contents modify/delete SD card contents (D) : 0.06501479458924957\n",
      "Your accounts : discover known accounts (S) : 0.04755786270471878\n",
      "System tools : prevent device from sleeping (D) : 0.043201724358550304\n",
      "Your location : coarse (network-based) location (D) : 0.040417963495611844\n",
      "Your location : fine (GPS) location (D) : 0.03837600008648027\n",
      "\n",
      "[Topic 5]\n",
      "Storage : modify/delete USB storage contents modify/delete SD card contents (D) : 0.44282034402912485\n",
      "Network communication : full Internet access (D) : 0.1393834163824743\n",
      "Hardware controls : record audio (D) : 0.08084190258200194\n",
      "Your location : fine (GPS) location (D) : 0.07288068771704215\n",
      "Your location : mock location sources for testing (D) : 0.07181457641554628\n",
      "Your location : access extra location provider commands (S) : 0.04978871246316641\n",
      "Your location : coarse (network-based) location (D) : 0.04195576800604112\n",
      "Network communication : view network state (S) : 0.03785068852332238\n",
      "Hardware controls : take pictures and videos (D) : 0.01731390820666017\n",
      "Services that cost you money : directly call phone numbers (D) : 0.010389164931841005\n",
      "\n",
      "[Topic 6]\n",
      "System tools : set wallpaper (S) : 0.2966761734349453\n",
      "Network communication : full Internet access (D) : 0.08176507481826549\n",
      "Network communication : view network state (S) : 0.07934428310050766\n",
      "Storage : modify/delete USB storage contents modify/delete SD card contents (D) : 0.06236155768528365\n",
      "Your personal information : read Browser's history and bookmarks (D) : 0.058191125036948205\n",
      "Your personal information : write Browser's history and bookmarks (D) : 0.04924821205160795\n",
      "Hardware controls : control vibrator (S) : 0.04486096837315541\n",
      "Hardware controls : control flashlight (S) : 0.04246040967178225\n",
      "Phone calls : read phone state and identity (D) : 0.040425598513616066\n",
      "System tools : automatically start at boot (S) : 0.03976716942976051\n",
      "\n",
      "[Topic 7]\n",
      "Network communication : full Internet access (D) : 0.6011039277323503\n",
      "Your location : coarse (network-based) location (D) : 0.15919967022248394\n",
      "Your location : fine (GPS) location (D) : 0.14182471768469\n",
      "Services that cost you money : directly call phone numbers (D) : 0.0704396131780525\n",
      "Network communication : view network state (S) : 0.026914961807545306\n",
      "Default : modify/delete USB storage contents modify/delete SD card contents (S) : 2.9363093647895313e-05\n",
      "Phone calls : read phone state and identity (D) : 2.3104588002534356e-05\n",
      "Storage : modify/delete USB storage contents modify/delete SD card contents (D) : 2.799217949163526e-06\n",
      "System tools : send sticky broadcast (S) : 2.7991952171628787e-06\n",
      "Hardware controls : control vibrator (S) : 2.7990913304751466e-06\n",
      "\n",
      "[Topic 8]\n",
      "Network communication : view Wi-Fi state (S) : 0.18830565410314998\n",
      "Hardware controls : take pictures and videos (D) : 0.1275041234733043\n",
      "Storage : modify/delete USB storage contents modify/delete SD card contents (D) : 0.10880431767810994\n",
      "Network communication : view network state (S) : 0.09751158269213966\n",
      "Network communication : full Internet access (D) : 0.08960202304412357\n",
      "Phone calls : read phone state and identity (D) : 0.08214983094338704\n",
      "Your location : fine (GPS) location (D) : 0.050548029844063286\n",
      "Your location : coarse (network-based) location (D) : 0.046814577662902646\n",
      "System tools : modify global system settings (D) : 0.04535790343984653\n",
      "System tools : prevent device from sleeping (D) : 0.03326616903120092\n",
      "\n",
      "[Topic 9]\n",
      "Your personal information : read contact data (D) : 0.10590383895192645\n",
      "Services that cost you money : send SMS messages (D) : 0.059538897091976135\n",
      "Phone calls : read phone state and identity (D) : 0.049017178074931896\n",
      "Your messages : receive SMS (D) : 0.04484955224520239\n",
      "Your personal information : write contact data (D) : 0.0444654442477625\n",
      "Network communication : full Internet access (D) : 0.04051129766423842\n",
      "Services that cost you money : directly call phone numbers (D) : 0.03350457368090894\n",
      "System tools : kill background processes (S) : 0.03338822088459338\n",
      "Network communication : view network state (S) : 0.03331871848510498\n",
      "Storage : modify/delete USB storage contents modify/delete SD card contents (D) : 0.032649654943262114\n",
      "\n"
     ]
    }
   ],
   "source": [
    "topic_word_distributions = np.array([row / row.sum() for row in lda.components_])\n",
    "\n",
    "num_top_words = 10\n",
    "\n",
    "#code taken from lecture code demo\n",
    "def print_top_words(topic_word_distributions, num_top_words, vocab):\n",
    "    num_topics = len(topic_word_distributions)\n",
    "    print('Displaying the top %d words per topic and their probabilities within the topic...' % num_top_words)\n",
    "    print()\n",
    "\n",
    "    for topic_idx in range(num_topics):\n",
    "        print('[Topic ', topic_idx, ']', sep='')\n",
    "        sort_indices = np.argsort(-topic_word_distributions[topic_idx])\n",
    "        for rank in range(num_top_words):\n",
    "            word_idx = sort_indices[rank]\n",
    "            print(vocab[word_idx], ':',\n",
    "                  topic_word_distributions[topic_idx, word_idx])\n",
    "        print()\n",
    "\n",
    "print_top_words(topic_word_distributions, num_top_words, permission_columns)"
   ]
  },
  {
   "cell_type": "markdown",
   "metadata": {},
   "source": [
    "Topic 0 - Broadcasting and internet\n",
    "Topic 1 = calender and calling\n",
    "Topic 3 - google products/GPS\n",
    "Topic 5 - social media apps? recording/pictures and videos "
   ]
  },
  {
   "cell_type": "markdown",
   "metadata": {},
   "source": [
    "### Part F: For each topic, list the top 3 apps with at least 100000 ratings having the highest probability assigned to that topic [15 points]\n",
    "\n",
    "   - This further helps us understand what the topics actually mean.\n",
    "   - However, the data is noisy and this exercise may result in listing a bunch of obscure apps.\n",
    "   - Hence, filtering out all apps with less than 100000 ratings may help."
   ]
  },
  {
   "cell_type": "code",
   "execution_count": 69,
   "metadata": {},
   "outputs": [
    {
     "data": {
      "text/plain": [
       "(180295, 10)"
      ]
     },
     "execution_count": 69,
     "metadata": {},
     "output_type": "execute_result"
    }
   ],
   "source": [
    "topic_matrix = lda.transform(X_norm)\n",
    "topic_matrix.shape"
   ]
  },
  {
   "cell_type": "code",
   "execution_count": 83,
   "metadata": {},
   "outputs": [
    {
     "name": "stdout",
     "output_type": "stream",
     "text": [
      "[['Movies', 'Google Translate', 'Restaurant Story???'], ['Tap Fish', 'Adobe Flash Player 11', 'Shazam'], ['TiKL', 'Evernote', 'chompSMS'], ['Vaulty Free Hides Pictures', 'Angry Birds Seasons', 'Lookout Security & Antivirus'], ['chompSMS', 'GasBuddy', 'Gmail'], ['Google Translate', 'Movies', 'GasBuddy'], ['Dolphin Browser??? HD', 'TuneIn Radio', 'ColorNote Notepad Notes'], ['ColorNote Notepad Notes', 'Seesmic (Facebook, Twitter)', 'Backgrounds HD Wallpapers'], ['Restaurant Story™', 'Horoscope', 'Wordfeud FREE'], ['Robo Defense FREE', 'Strip Poker', 'Gmail']]\n"
     ]
    }
   ],
   "source": [
    "top3_topic_matrix = np.zeros((10, 3)).tolist()\n",
    "\n",
    "for topic in range(len(topic_matrix[0])):\n",
    "    topicsorted_dict = dict(zip(np.argsort(-topic_matrix[:,topic]), [i for i in range(len(topic_matrix))]))\n",
    "    count = 0\n",
    "    maxidx = len(topic_matrix)-1\n",
    "    while count < 3: \n",
    "        if app_ratings[topicsorted_dict[maxidx]] > 100000:\n",
    "            top3_topic_matrix[topic][count] = app_names[topicsorted_dict[maxidx]]\n",
    "            count += 1\n",
    "        maxidx -= 1\n",
    "\n",
    "print(top3_topic_matrix)        "
   ]
  },
  {
   "cell_type": "markdown",
   "metadata": {},
   "source": [
    "### Part G: Visualize the document-topic proportion matrix in 2-D using t-SNE [10 points]\n",
    "\n",
    "Does our reduced dimensional space contain any structure? Visualize the documents (in the topic-space) using t-SNE.\n",
    "\n",
    "   * Use `TSNE` from `scikit-learn`.\n",
    "   * Set the angle to 0.99 and init to 'PCA'. Pick any learning rate that gives you a visually pleasing result.\n",
    "   * You may `fit` TSNE to a sample of the data (>1000 documents) instead of the full data.\n",
    "   * Remember to call `fit_transform` to obtain your 2-D data.\n",
    "   * Plot the t-SNE dimensions as a scatterplot.\n",
    "   * Color each point based on its most probable topic. Make sure you include a legend (10 colors).\n",
    "   \n",
    "Clusters in the t-SNE plot indicate groups of apps that have similar topics."
   ]
  },
  {
   "cell_type": "code",
   "execution_count": 66,
   "metadata": {},
   "outputs": [
    {
     "name": "stdout",
     "output_type": "stream",
     "text": [
      "Wall time: 11min 56s\n"
     ]
    }
   ],
   "source": [
    "%%time\n",
    "\n",
    "from sklearn.manifold import TSNE\n",
    "\n",
    "tsne = TSNE(n_components = 2, angle = 0.99, init = 'pca')  \n",
    "topic_tsne = tsne.fit_transform(topic_matrix)"
   ]
  },
  {
   "cell_type": "code",
   "execution_count": 87,
   "metadata": {},
   "outputs": [
    {
     "data": {
      "text/plain": [
       "(-59.436761665344235,\n",
       " 57.060201454162595,\n",
       " -60.10271320343018,\n",
       " 60.007334327697755)"
      ]
     },
     "execution_count": 87,
     "metadata": {},
     "output_type": "execute_result"
    },
    {
     "data": {
      "image/png": "[encoded data removed]",
      "text/plain": [
       "<Figure size 432x288 with 1 Axes>"
      ]
     },
     "metadata": {
      "needs_background": "light"
     },
     "output_type": "display_data"
    }
   ],
   "source": [
    "topic_matrix_topperapp = np.argmax(topic_matrix, axis = 1)\n",
    "\n",
    "plt.scatter(topic_tsne[:, 0],\n",
    "            topic_tsne[:, 1],\n",
    "            c=topic_matrix_topperapp, cmap='Set2')\n",
    "plt.axis('equal')  "
   ]
  },
  {
   "cell_type": "markdown",
   "metadata": {},
   "source": [
    "## Question 3: Questionnaire [5 points]\n",
    "\n",
    "Please answer this survey after you have done this homework: https://forms.gle/hW3dWyU3Yw5BpJBN6"
   ]
  }
 ],
 "metadata": {
  "kernelspec": {
   "display_name": "Python 3",
   "language": "python",
   "name": "python3"
  },
  "language_info": {
   "codemirror_mode": {
    "name": "ipython",
    "version": 3
   },
   "file_extension": ".py",
   "mimetype": "text/x-python",
   "name": "python",
   "nbconvert_exporter": "python",
   "pygments_lexer": "ipython3",
   "version": "3.8.3"
  }
 },
 "nbformat": 4,
 "nbformat_minor": 2
}
