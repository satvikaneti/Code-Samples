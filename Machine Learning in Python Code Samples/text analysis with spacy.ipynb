{
 "cells": [
  {
   "cell_type": "markdown",
   "metadata": {},
   "source": [
    "Name: Satvika Neti\n",
    "\n",
    "Andrew ID: sneti\n",
    "\n",
    "Collaborators (if none, say \"none\"; do *not* leave this blank):\n",
    "\n",
    "Reminder: you should not be sharing code."
   ]
  },
  {
   "cell_type": "markdown",
   "metadata": {},
   "source": [
    "### Instructions\n",
    "1. Fill in your name, Andrew ID, and collaborators above.\n",
    "2. Fill in the code/text blocks to answer each question.\n",
    "3. Do *not* change any of the existing code provided.\n",
    "4. Run the entire notebook *before* submitting it on Canvas to make sure that the code actually runs without errors. (**Important**: Any code cells that you have entered code for but did not actually execute will be disregarded, so please be sure to actually run your code first and make sure it runs without errors! We may re-run a subset of your code for grading purposes.)\n",
    "5. Be careful about where you save data for use with this Jupyter notebook (more details on this later)."
   ]
  },
  {
   "cell_type": "markdown",
   "metadata": {},
   "source": [
    "### [Problem 1] Basic Text Analysis [45 pts]\n",
    "\n",
    "This problem involves a mix of Python review (loops, conditionals, counters/dictionaries, sorting) and learning to work with a sizable collection of text data.\n",
    "\n",
    "You will be looking at a phenomenon of \"natural languages\" (i.e., human languages, such as English) called *Zipf's law*, which relates how frequently a word occurs in a language to its \"rank\" (the word with rank 1 is the most frequently occurring word, the word with rank 2 is the second most frequently occurring word, etc). In particular, the word with rank 1 appears twice as likely as the word with rank 2, and the three times as likely as the word with rank 3, and so forth. (Some details on Zipf's law can be found on [Wikipedia](https://en.wikipedia.org/wiki/Zipf%27s_law).) In this problem, you are going to test Zipf's law on a real dataset and explore some of its properties.\n",
    "\n",
    "**Throughout this problem, do not remove stopwords.**\n",
    "\n",
    "This problem assumes you have already installed the `spaCy` package ([https://spacy.io](https://spacy.io)). Instructions for installing this are part of the tutorial file \"`Anaconda, Jupyter, and spaCy setup tutorial.pdf`\". You can find how to access lemmatized tokens using `spaCy` by looking at the `spaCy` demo Jupyter notebook from lecture.\n",
    "\n",
    "Note: For this problem, you don't actually need `spaCy`'s named entity recognition, grammatical parsing, or part-of-speech tagging. Turning these elements off when you instantiate the nlp object can substantially speed up your code.  To make sure these are off when instantiating the nlp object, call: \n",
    "\n",
    "`\n",
    "nlp = spacy.load('en_core_web_sm', disable=['ner', 'parser', 'tagger'])\n",
    "`\n",
    "\n",
    "The dataset is a collection of the 100 most popular books downloaded from Gutenburg Project ([https://www.gutenberg.org/browse/scores/top](https://www.gutenberg.org/browse/scores/top)); these 100 books form the corpus that we consider for this problem. Each file contains the text of a book. We will read in all 100 books.\n",
    "\n",
    "Note: Please *do not* change the folder name or the path, and make sure you use a relative path (e.g. './HW1_Dataset/*filename*) when reading the files. When grading your homework, we will put your Jupyter notebook file and the dataset in the same folder, and run your code. **You will not receive points for this problem if your code fails to load the data.**\n",
    "\n",
    "Hint: To list all files that match a certain pattern, you can use the `glob` package. Here's an example usage:\n",
    "\n",
    "`\n",
    "import glob\n",
    "print(glob.glob('./HW1_Dataset/*.txt'))\n",
    "`\n",
    "\n",
    "**(a) [5 pts]** As a warm-up, write a loop that iterates through all 100 books; for each book, print out its corresponding file name and also how long the book is in terms of string length (meaning that if we load in the book as a string, we compute the length of the string using the built-in Python function `len`).\n",
    "\n",
    "Hint: When debugging your code, you may want to first make sure your code runs on a few of the books rather than all 100 (for example, you can start by only having 3 of the text files in `HW1_Dataset`). Once you're confident that your solution is correct on a few text files, then run on all of them! This is a standard approach to debugging code that is meant to handle large datasets."
   ]
  },
  {
   "cell_type": "code",
   "execution_count": null,
   "metadata": {},
   "outputs": [],
   "source": [
    "import glob\n",
    "\n",
    "allfilenames = glob.glob('./HW1_Dataset/*.txt')\n",
    "\n",
    "for file in allfilenames:\n",
    "    f = open(file, \"r\", encoding=\"utf8\")\n",
    "    print(file, len(f.read()))\n",
    "    f.close()"
   ]
  },
  {
   "cell_type": "markdown",
   "metadata": {},
   "source": [
    "**(b) [15 pts]** Build a term frequency table for all 100 books. Specifically, building on your solution to part (a), read in a single book at a time and for each book, do the following two steps:\n",
    "\n",
    "  1. Process the text by separating and lemmatizing the words.\n",
    "  2. Count the number of times each word appears in the book and add these to a frequency table. (In particular, use raw counts as the \"frequency\"--do not divide by the total number of words in the corpus.)\n",
    "\n",
    "Note that unlike in part (a), this time around, there's no need to print out the file names and how long each book is.\n",
    "\n",
    "After looping through all 100 books, you should have the term frequency table for the entire corpus (importantly, the frequency table should not just be for a single book; it should be for all 100 books). Sort the table and print the top 50 most frequent words, along with their frequencies and ranks. Don't worry about ties (for example, if multiple things have the same frequency, it's fine if your solution breaks ties arbitrarily in the sorting).\n",
    "\n",
    "Note: When counting the words, only include words (tokens) that consist of alphabetic letters (a-z and A-Z). You can do this with what's called a *regular expression*. For example, to check whether the words \"will.i.am\" or \"Tesla\" are alphabetic, you would do the following:\n",
    "\n",
    "`\n",
    "import re  # regular expression package\n",
    "if re.match('[a-zA-Z]+$', 'will.i.am'):\n",
    "    print('will.i.am consists only of alphabetic letters!')\n",
    "if re.match('[a-zA-Z]+$', 'Tesla'):\n",
    "    print('tesla consists only of alphabetic letters!')\n",
    "`"
   ]
  },
  {
   "cell_type": "code",
   "execution_count": null,
   "metadata": {},
   "outputs": [],
   "source": [
    "import spacy\n",
    "from collections import Counter\n",
    "import re\n",
    "from operator import itemgetter\n",
    "\n",
    "nlp = spacy.load('en_core_web_sm', disable=['ner', 'parser'])\n",
    "nlp.max_length = 5465100\n",
    "\n",
    "histogram = Counter()\n",
    "\n",
    "#only doing a subset bc all of them gives my computer a memory allocation error at around ~55 books\n",
    "for file in allfilenames[:50]:\n",
    "    print(file)\n",
    "    text = open(file, \"r\", encoding=\"utf8\").read()\n",
    "\n",
    "    parsed_text = nlp(text)\n",
    "    \n",
    "    for token in parsed_text:\n",
    "        lemma = token.lemma_.lower()\n",
    "        if (re.match('[a-zA-Z]+$', lemma)):\n",
    "            histogram[lemma] += 1"
   ]
  },
  {
   "cell_type": "code",
   "execution_count": null,
   "metadata": {},
   "outputs": [],
   "source": [
    "sortedhist = sorted(histogram.items(),\n",
    "                    reverse=True,\n",
    "                    key=itemgetter(1))\n",
    "\n",
    "for lemma, count in sortedhist:\n",
    "    print(lemma, \":\", count)"
   ]
  },
  {
   "cell_type": "markdown",
   "metadata": {},
   "source": [
    "**(c) [10 pts]** Visualize the frequency table by plotting a **raw scatter plot** (put frequency as the y-axis and rank as the x-axis), and a **log-log plot** (use logarithmic scales on both the x- and y- axes). Note that this should be for all words and not only the top 50. As before, for the ranks, do not worry about ties, i.e., break ties arbitrarily."
   ]
  },
  {
   "cell_type": "code",
   "execution_count": null,
   "metadata": {},
   "outputs": [],
   "source": [
    "import matplotlib.pyplot as plt\n",
    "plt.style.use('seaborn')  \n",
    "\n",
    "numlemmas = 50\n",
    "ranks = range(numlemmas)\n",
    "counts = [count for lemma, count in sortedhist[:numlemmas]]\n",
    "\n",
    "plt.scatter(ranks, counts)"
   ]
  },
  {
   "cell_type": "code",
   "execution_count": null,
   "metadata": {
    "scrolled": false
   },
   "outputs": [],
   "source": [
    "# Log-log plot\n",
    "plt.loglog(ranks,counts)"
   ]
  },
  {
   "cell_type": "markdown",
   "metadata": {},
   "source": [
    "**(d) [15 pts]** Explore the frequency table: Zipf's law states that term frequency is governed by a power low, i.e. the relationship between term frequency and rank can be approximated by $f(r) = cr^{-1}$, where $f(r)$ is the frequency of the term at rank $r$, $r$ is the rank of a term, and $c$ is a constant and is approximately 0.1*(corpus size) for English. \n",
    "\n",
    "Answer following questions:\n",
    "\n",
    "- What do you observe in the log-log plot above? Is this consist with the power law?"
   ]
  },
  {
   "cell_type": "markdown",
   "metadata": {},
   "source": [
    "Your text answer (for this question, your answer is *not* code): No, this deosn't seem consistent with Zipf's law. The initial raw plot does look consistent, but in a loglog plot it should be diagonal and linear, but there is a significant curve to it. "
   ]
  },
  {
   "cell_type": "markdown",
   "metadata": {},
   "source": [
    "- Think of the corpus as a (large) unigram bag of words. Following the analogy from lecture, imagine drawing a single word from this big bag (note that we are assuming that we've lemmatized the words and also filtered out non-alphanumeric words). What is the probability of drawing one of the 4 most frequent words? What is the probability of drawing one of the 50 most frequent words? Answer these two questions using code rather than just entering in the final answers as numbers."
   ]
  },
  {
   "cell_type": "code",
   "execution_count": null,
   "metadata": {},
   "outputs": [],
   "source": [
    "totnum = sum([count for lemma, count in sortedhist])\n",
    "\n",
    "print('Probability of drawing one of the 4 most frequent words: ')\n",
    "\n",
    "top4 = sum([count for lemma, count in sortedhist[:4]])\n",
    "\n",
    "print((top4/totnum)*100, \"%\")\n",
    "\n",
    "print('Probability of drawing one of the 50 most frequent words: ')\n",
    "\n",
    "top50 = sum([count for lemma, count in sortedhist[:50]])\n",
    "\n",
    "print((top50/totnum)*100, \"%\")"
   ]
  },
  {
   "cell_type": "markdown",
   "metadata": {},
   "source": [
    "- What proportion of the words occur only once? What proportion of the words occur fewer than 10 times?"
   ]
  },
  {
   "cell_type": "code",
   "execution_count": null,
   "metadata": {
    "scrolled": true
   },
   "outputs": [],
   "source": [
    "print(\"Occur only once: \")\n",
    "\n",
    "onlyonce = [count for lemma, count in sortedhist if count == 1]\n",
    "\n",
    "print(len(onlyonce)/len(sortedhist))\n",
    "\n",
    "print(\"Occur fewer than 10 times: \")\n",
    "\n",
    "fewer10 = [count for lemma, count in sortedhist if count <10]\n",
    "\n",
    "print(len(fewer10)/len(sortedhist))\n",
    "\n"
   ]
  },
  {
   "cell_type": "markdown",
   "metadata": {},
   "source": [
    "### [Problem 2] Entity Recognition and Pointwise Mutual Information (PMI) [50 pts]\n",
    "By using the entity recognition system in `spaCy`, let's identify named entities from newspaper articles. You'll be using Reuters corpus which contains more than ten thousand newspaper articles. To run the code below, you need to download the Reuters dataset. To do so, in a terminal/command line (recall that you can open a terminal from Jupyter's webpage that shows all the files, which by default is [http://localhost:8888/tree](http://localhost:8888/tree)), start up Python and enter:\n",
    "\n",
    "`\n",
    "import nltk\n",
    "nltk.download('reuters')\n",
    "`\n",
    "\n",
    "Then proceed to the problem subparts below.\n",
    "\n",
    "Note that in this problem you will need named entity recognition but not grammatical parsing or the part-of-speech tagging. Hence, you will want to instantiate the nlp object by calling:\n",
    "\n",
    "`\n",
    "nlp = spacy.load('en_core_web_sm', disable=['parser', 'tagger'])\n",
    "`\n"
   ]
  },
  {
   "cell_type": "markdown",
   "metadata": {},
   "source": [
    "**(a) [15 pts]** Draw a bar chart in which one of the axes shows entity labels and the other shows the frequency of the corresponding label. Use the variables `reuters_nlp` and `label_counter` provided in the code below."
   ]
  },
  {
   "cell_type": "code",
   "execution_count": 1,
   "metadata": {
    "scrolled": false
   },
   "outputs": [],
   "source": [
    "import matplotlib.pyplot as plt\n",
    "from collections import Counter\n",
    "from nltk.corpus import reuters\n",
    "import re\n",
    "import spacy\n",
    "nlp = spacy.load('en_core_web_sm', disable=['parser'])\n",
    "reuters_fileids = reuters.fileids()  # hint: when first debugging, consider looking at just the first few\n",
    "reuters_nlp = [nlp(re.sub('\\s+',' ', reuters.raw(i)).strip()) for i in reuters_fileids]"
   ]
  },
  {
   "cell_type": "code",
   "execution_count": 2,
   "metadata": {},
   "outputs": [
    {
     "name": "stdout",
     "output_type": "stream",
     "text": [
      "ORG 10321\n",
      "CARDINAL 9258\n",
      "DATE 7964\n",
      "GPE 5416\n",
      "PERSON 4253\n",
      "QUANTITY 3456\n",
      "NORP 2516\n",
      "MONEY 2110\n",
      "ORDINAL 857\n",
      "LOC 836\n",
      "PRODUCT 825\n",
      "TIME 612\n",
      "LAW 244\n",
      "FAC 219\n",
      "EVENT 143\n",
      "WORK_OF_ART 131\n",
      "PERCENT 87\n",
      "LANGUAGE 20\n"
     ]
    }
   ],
   "source": [
    "from operator import itemgetter\n",
    "\n",
    "label_counter = Counter()\n",
    "\n",
    "for parsed_text in reuters_nlp:\n",
    "    alllabels = set()\n",
    "    for entity in parsed_text.ents:\n",
    "        alllabels.add(entity.label_)\n",
    "    for label in alllabels:\n",
    "        label_counter[label] += 1\n",
    "        \n",
    "sortedlabels = sorted(label_counter.items(),\n",
    "                    reverse=True,\n",
    "                    key=itemgetter(1))\n",
    "\n",
    "for label, count in sortedlabels:\n",
    "    print(label, count)"
   ]
  },
  {
   "cell_type": "code",
   "execution_count": 3,
   "metadata": {},
   "outputs": [
    {
     "data": {
      "text/plain": [
       "Text(0, 0.5, 'Raw count')"
      ]
     },
     "execution_count": 3,
     "metadata": {},
     "output_type": "execute_result"
    },
    {
     "data": {
      "image/png": "[encoded data removed]",
      "text/plain": [
       "<Figure size 576x396 with 1 Axes>"
      ]
     },
     "metadata": {},
     "output_type": "display_data"
    }
   ],
   "source": [
    "%matplotlib inline\n",
    "import matplotlib.pyplot as plt\n",
    "plt.style.use('seaborn')  # prettier plots (for example, use 'ggplot' instead of 'seaborn' for plots like in R)\n",
    "\n",
    "numtoplot = len(sortedlabels)\n",
    "labels = [lemma for lemma, count in sortedlabels]\n",
    "counts = [count for lemma, count in sortedlabels]\n",
    "plt.bar(range(numtoplot), counts)\n",
    "plt.xticks(range(numtoplot), labels, rotation=90)\n",
    "plt.xlabel('Label')\n",
    "plt.ylabel('Raw count')"
   ]
  },
  {
   "cell_type": "markdown",
   "metadata": {},
   "source": [
    "**(b) [15 pts]** Now list the top 10 most frequently occured entities (entity text and the number of occurence) with labels `ORG` (organization) and `GPE` (geopolitical entity such as countries, cities, states) respectively.\n",
    "\n",
    "Hint: Here, when counting the frequency, we need to count how many articles have an entity with the desired property. For every article, we add 1 if the article has the entity and 0 otherwise.  List filtering (as in Recitation 1) will be helpful here."
   ]
  },
  {
   "cell_type": "code",
   "execution_count": 20,
   "metadata": {},
   "outputs": [
    {
     "name": "stdout",
     "output_type": "stream",
     "text": [
      "Top 10 ORG entitites\n",
      "revs 777\n",
      "reuters 447\n",
      "nine 385\n",
      "shr 324\n",
      "oper 289\n",
      "the securities and exchange commission 248\n",
      "usda 225\n",
      "ec 224\n",
      "fed 206\n",
      "pct 197\n",
      "\n",
      "Top 10 GPE entities\n",
      "u.s. 1559\n",
      "japan 554\n",
      "avg 459\n",
      "the united states 382\n",
      "u.k. 296\n",
      "canada 283\n",
      "new york 253\n",
      "west germany 234\n",
      "washington 228\n",
      "london 213\n",
      "set()\n"
     ]
    }
   ],
   "source": [
    "org_counts = Counter()\n",
    "gpe_counts = Counter()\n",
    "\n",
    "for parsed_text in reuters_nlp:\n",
    "    org_ents = set([entity.text.lower() for entity in parsed_text.ents if entity.label_ == \"ORG\"])\n",
    "    gpe_ents = set([entity.text.lower() for entity in parsed_text.ents if entity.label_ == \"GPE\"])\n",
    "    for ent in org_ents:\n",
    "        org_counts[ent] += 1\n",
    "    for ent in gpe_ents:\n",
    "        gpe_counts[ent] += 1\n",
    "        \n",
    "sortedorgs = sorted(org_counts.items(), reverse=True, key=itemgetter(1))\n",
    "sortedgpes = sorted(gpe_counts.items(), reverse=True, key=itemgetter(1))\n",
    "\n",
    "print(\"Top 10 ORG entitites\")\n",
    "for label, count in sortedorgs[:10]:\n",
    "    print(label, count)\n",
    "    \n",
    "print(\"\\nTop 10 GPE entities\")\n",
    "for label, count in sortedgpes[:10]:\n",
    "    print(label, count)"
   ]
  },
  {
   "cell_type": "markdown",
   "metadata": {},
   "source": [
    "**(c) [20 pts]** Give the top 50 `GPE` (countries, cities, states) entities that have the highest Pointwise Mutual Information (PMI) values with regard to the `ORG` (organization) entity **'opec'** (your list of this top 50 should be ranked in decreasing PMI value). Did you find any unexpected results? If so, why do you think it happened? If you found some of the results to be unsurprisingly, how come? \n",
    "\n",
    "Hint 1: As in lecture, when computing PMI, we will compute probabilities by counting the number of documents where entities occur or co-occur.  For example, $P('opec') = \\frac{number \\ \\ of \\ \\ documents \\ \\ containing \\ \\ 'opec'}{number \\ \\ of \\ \\ documents}$.  \n",
    "\n",
    "Hint 2: To compute this ranking, you do not have to compute the full PMI equation."
   ]
  },
  {
   "cell_type": "code",
   "execution_count": 38,
   "metadata": {},
   "outputs": [
    {
     "name": "stdout",
     "output_type": "stream",
     "text": [
      "u.s. : 0.08478260869565217\n",
      "saudi arabia : 0.06086956521739131\n",
      "kuwait : 0.058695652173913045\n",
      "ecuador : 0.05434782608695652\n",
      "vienna : 0.03695652173913044\n",
      "qatar : 0.034782608695652174\n",
      "venezuela : 0.034782608695652174\n",
      "saudi arabia's : 0.02608695652173913\n",
      "iraq : 0.02608695652173913\n",
      "the united arab emirates : 0.02391304347826087\n",
      "japan : 0.02391304347826087\n",
      "iran : 0.02391304347826087\n",
      "nigeria : 0.021739130434782608\n",
      "balao : 0.017391304347826087\n",
      "the united states : 0.017391304347826087\n",
      "opec : 0.015217391304347827\n",
      "uae : 0.015217391304347827\n",
      "britain : 0.015217391304347827\n",
      "mexico : 0.013043478260869565\n",
      "indonesia : 0.013043478260869565\n",
      "libya : 0.013043478260869565\n",
      "algeria : 0.013043478260869565\n",
      "the neutral zone : 0.010869565217391304\n",
      "norway : 0.010869565217391304\n",
      "dubai : 0.010869565217391304\n",
      "new york : 0.010869565217391304\n",
      "egypt : 0.010869565217391304\n",
      "the soviet union : 0.010869565217391304\n",
      "u.k. : 0.010869565217391304\n",
      "canada : 0.010869565217391304\n",
      "caracas : 0.010869565217391304\n",
      "colombia : 0.008695652173913044\n",
      "riyadh : 0.008695652173913044\n",
      "london : 0.008695652173913044\n",
      "turkey : 0.008695652173913044\n",
      "tokyo : 0.008695652173913044\n",
      "west germany : 0.008695652173913044\n",
      "quito : 0.008695652173913044\n",
      "jakarta : 0.008695652173913044\n",
      "alaska : 0.006521739130434782\n",
      "malaysia : 0.006521739130434782\n",
      "kuwaiti : 0.006521739130434782\n",
      "washington : 0.006521739130434782\n",
      "bahrain : 0.006521739130434782\n",
      "geneva : 0.006521739130434782\n",
      "france : 0.006521739130434782\n",
      "sweden : 0.004347826086956522\n",
      "singapore : 0.004347826086956522\n",
      "oman : 0.004347826086956522\n",
      "emirates : 0.004347826086956522\n"
     ]
    }
   ],
   "source": [
    "import numpy as np\n",
    "\n",
    "gpe_opec_counts = Counter()\n",
    "\n",
    "for parsed_text in reuters_nlp:\n",
    "    gpe_ents = set([entity.text.lower() for entity in parsed_text.ents if entity.label_ == \"GPE\"])\n",
    "    opec = 1 if len([entity.text.lower() for entity in parsed_text.ents if entity.text.lower() == \"opec\"]) > 0 else 0\n",
    "    if opec: \n",
    "        for ent in gpe_ents:\n",
    "            gpe_opec_counts[ent] += 1\n",
    "            \n",
    "sortedopeccounts = sorted(gpe_opec_counts.items(), reverse=True, key=itemgetter(1))\n",
    "\n",
    "counts = np.array([count for ent, count in sortedopeccounts])\n",
    "joint_prob = counts/counts.sum()\n",
    "\n",
    "sortedopecprobs = list(zip([ent for ent, count in sortedopeccounts], joint_prob))\n",
    "\n",
    "for ent, count in sortedopecprobs[:50]:\n",
    "    print(ent, \":\", count)\n"
   ]
  },
  {
   "cell_type": "markdown",
   "metadata": {},
   "source": [
    "Your text answer (for this question, your answer is *not* code): I guess I would have guessed that doing this exercise would have given you the OPEC countries, but what we get instead is both the OPEC countries and countries that do trade/work with OPEC countries. I was also surprised to see some cities very high up on this list - I wouldn't have thought that that would happen. It was also surprising that a lot of the OPEC countries like Kuwait or Emirates were so low on the list. "
   ]
  },
  {
   "cell_type": "markdown",
   "metadata": {},
   "source": [
    "### [Problem 3] Questionnaire [5 pts]\n",
    "Please provide feedback! To receive the 5 points, be sure to enter your Andrew ID correctly in this Google form: https://forms.gle/QokfgNxGwFwmUMbF6"
   ]
  }
 ],
 "metadata": {
  "anaconda-cloud": {},
  "kernelspec": {
   "display_name": "Python 3",
   "language": "python",
   "name": "python3"
  },
  "language_info": {
   "codemirror_mode": {
    "name": "ipython",
    "version": 3
   },
   "file_extension": ".py",
   "mimetype": "text/x-python",
   "name": "python",
   "nbconvert_exporter": "python",
   "pygments_lexer": "ipython3",
   "version": "3.8.3"
  }
 },
 "nbformat": 4,
 "nbformat_minor": 2
}
